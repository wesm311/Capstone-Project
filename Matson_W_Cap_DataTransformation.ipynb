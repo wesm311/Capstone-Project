{
 "cells": [
  {
   "cell_type": "markdown",
   "metadata": {},
   "source": [
    "### Data Description\n",
    "NMSS has provided data on donations for the MS bike for America events from 2013-2017.  The data set contains information about the donors, as well as the participant associated with the donation as well as the event."
   ]
  },
  {
   "cell_type": "code",
   "execution_count": 1,
   "metadata": {},
   "outputs": [],
   "source": [
    "# import python packages\n",
    "import pandas as pd\n",
    "import numpy as np\n",
    "import matplotlib as plt\n",
    "%matplotlib inline\n",
    "import re"
   ]
  },
  {
   "cell_type": "code",
   "execution_count": 2,
   "metadata": {},
   "outputs": [
    {
     "name": "stderr",
     "output_type": "stream",
     "text": [
      "C:\\Users\\Wesley\\Anaconda3\\lib\\site-packages\\IPython\\core\\interactiveshell.py:3020: DtypeWarning: Columns (13,14,15,18,29,33,34,35,36,38,41,42,48) have mixed types. Specify dtype option on import or set low_memory=False.\n",
      "  interactivity=interactivity, compiler=compiler, result=result)\n",
      "C:\\Users\\Wesley\\Anaconda3\\lib\\site-packages\\IPython\\core\\interactiveshell.py:3020: DtypeWarning: Columns (6,7,13,15,18,29,33,34,35,36,38,42) have mixed types. Specify dtype option on import or set low_memory=False.\n",
      "  interactivity=interactivity, compiler=compiler, result=result)\n",
      "C:\\Users\\Wesley\\Anaconda3\\lib\\site-packages\\IPython\\core\\interactiveshell.py:3020: DtypeWarning: Columns (14,15,18,29,33,34,35,36,38,41,42) have mixed types. Specify dtype option on import or set low_memory=False.\n",
      "  interactivity=interactivity, compiler=compiler, result=result)\n",
      "C:\\Users\\Wesley\\Anaconda3\\lib\\site-packages\\IPython\\core\\interactiveshell.py:3020: DtypeWarning: Columns (1,3,7,13,15,18,29,33,34,35,36,38,42) have mixed types. Specify dtype option on import or set low_memory=False.\n",
      "  interactivity=interactivity, compiler=compiler, result=result)\n",
      "C:\\Users\\Wesley\\Anaconda3\\lib\\site-packages\\IPython\\core\\interactiveshell.py:3020: DtypeWarning: Columns (3,7,13,15,18,29,33,34,35,36,38,40,42) have mixed types. Specify dtype option on import or set low_memory=False.\n",
      "  interactivity=interactivity, compiler=compiler, result=result)\n"
     ]
    }
   ],
   "source": [
    "# Import datasets for donations\n",
    "don_2013 = pd.read_csv(\"data/2013 Bike Donations.csv\", encoding = \"ISO-8859-1\")\n",
    "don_2014 = pd.read_csv(\"data/2014 Bike Donations.csv\", encoding = \"ISO-8859-1\")\n",
    "don_2015 = pd.read_csv(\"data/2015 Bike Donations.csv\", encoding = \"ISO-8859-1\")\n",
    "don_2016 = pd.read_csv(\"data/2016 Bike Donations.csv\", encoding = \"ISO-8859-1\")\n",
    "don_2017 = pd.read_csv(\"data/2017 Bike Donations.csv\", encoding = \"ISO-8859-1\")"
   ]
  },
  {
   "cell_type": "code",
   "execution_count": 51,
   "metadata": {},
   "outputs": [],
   "source": [
    "#Combine into 1 data frame for easy processing\n",
    "combined_don = don_2013.append([don_2014, don_2015, don_2016, don_2017])"
   ]
  },
  {
   "cell_type": "code",
   "execution_count": 52,
   "metadata": {},
   "outputs": [
    {
     "data": {
      "text/plain": [
       "(3807376, 49)"
      ]
     },
     "execution_count": 52,
     "metadata": {},
     "output_type": "execute_result"
    }
   ],
   "source": [
    "#Check the number of rows\n",
    "combined_don.shape"
   ]
  },
  {
   "cell_type": "code",
   "execution_count": 53,
   "metadata": {},
   "outputs": [],
   "source": [
    "# Remove Unnecessary Columns\n",
    "combined_don = combined_don.drop(['Public Event Name','Campaign Title', 'User Confirmation Code', 'Source Code Type', \n",
    "                          'Source Code Text', 'Sub Source Code Text', 'Offline Status', 'Donor City', 'Donor County', \n",
    "                         'Donor ZIP','Net Transaction Amount', 'Ledger Transaction Amount', 'Batch ID', 'Team Name',\n",
    "                          'Proxy Type', 'Original Value Transacted' ], axis=1)"
   ]
  },
  {
   "cell_type": "code",
   "execution_count": 54,
   "metadata": {},
   "outputs": [
    {
     "data": {
      "text/html": [
       "<div>\n",
       "<style scoped>\n",
       "    .dataframe tbody tr th:only-of-type {\n",
       "        vertical-align: middle;\n",
       "    }\n",
       "\n",
       "    .dataframe tbody tr th {\n",
       "        vertical-align: top;\n",
       "    }\n",
       "\n",
       "    .dataframe thead th {\n",
       "        text-align: right;\n",
       "    }\n",
       "</style>\n",
       "<table border=\"1\" class=\"dataframe\">\n",
       "  <thead>\n",
       "    <tr style=\"text-align: right;\">\n",
       "      <th></th>\n",
       "      <th>Security Category Name</th>\n",
       "      <th>Event ID</th>\n",
       "      <th>Fiscal Year</th>\n",
       "      <th>Event Date</th>\n",
       "      <th>Campaign ID</th>\n",
       "      <th>Gift Amount($)</th>\n",
       "      <th>Date Recorded</th>\n",
       "      <th>Gift Type</th>\n",
       "      <th>Gift Payment Method</th>\n",
       "      <th>Soft Credit Type</th>\n",
       "      <th>...</th>\n",
       "      <th>Participation Type Name</th>\n",
       "      <th>Registration Active Status</th>\n",
       "      <th>Registration Date</th>\n",
       "      <th>Participant Goal($)</th>\n",
       "      <th>Is Prior Participant</th>\n",
       "      <th>Is Team Captain</th>\n",
       "      <th>Additional Gift Amount($)</th>\n",
       "      <th>Team</th>\n",
       "      <th>Team Creation Date</th>\n",
       "      <th>Original Value Transacted</th>\n",
       "    </tr>\n",
       "  </thead>\n",
       "  <tbody>\n",
       "    <tr>\n",
       "      <th>0</th>\n",
       "      <td>ALC Bike Events</td>\n",
       "      <td>17966</td>\n",
       "      <td>2013</td>\n",
       "      <td>10/6/2012 11:22</td>\n",
       "      <td>32881</td>\n",
       "      <td>100</td>\n",
       "      <td>9/14/2012 17:34</td>\n",
       "      <td>online</td>\n",
       "      <td>Credit Card</td>\n",
       "      <td>Teamraiser Participant Gift</td>\n",
       "      <td>...</td>\n",
       "      <td>Rider</td>\n",
       "      <td>Active</td>\n",
       "      <td>9/2/2012 18:40</td>\n",
       "      <td>1500</td>\n",
       "      <td>NaN</td>\n",
       "      <td>True</td>\n",
       "      <td>0</td>\n",
       "      <td>307893</td>\n",
       "      <td>9/2/2012 18:40</td>\n",
       "      <td>100</td>\n",
       "    </tr>\n",
       "    <tr>\n",
       "      <th>1</th>\n",
       "      <td>ALC Bike Events</td>\n",
       "      <td>17966</td>\n",
       "      <td>2013</td>\n",
       "      <td>10/6/2012 11:22</td>\n",
       "      <td>32881</td>\n",
       "      <td>50</td>\n",
       "      <td>9/21/2012 14:10</td>\n",
       "      <td>online</td>\n",
       "      <td>Credit Card</td>\n",
       "      <td>Teamraiser Participant Gift</td>\n",
       "      <td>...</td>\n",
       "      <td>Rider</td>\n",
       "      <td>Active</td>\n",
       "      <td>9/2/2012 18:40</td>\n",
       "      <td>1500</td>\n",
       "      <td>NaN</td>\n",
       "      <td>True</td>\n",
       "      <td>0</td>\n",
       "      <td>307893</td>\n",
       "      <td>9/2/2012 18:40</td>\n",
       "      <td>50</td>\n",
       "    </tr>\n",
       "    <tr>\n",
       "      <th>2</th>\n",
       "      <td>ALC Bike Events</td>\n",
       "      <td>17966</td>\n",
       "      <td>2013</td>\n",
       "      <td>10/6/2012 11:22</td>\n",
       "      <td>32881</td>\n",
       "      <td>25</td>\n",
       "      <td>9/21/2012 10:43</td>\n",
       "      <td>online</td>\n",
       "      <td>Credit Card</td>\n",
       "      <td>Teamraiser Participant Gift</td>\n",
       "      <td>...</td>\n",
       "      <td>Rider</td>\n",
       "      <td>Active</td>\n",
       "      <td>9/2/2012 18:40</td>\n",
       "      <td>1500</td>\n",
       "      <td>NaN</td>\n",
       "      <td>True</td>\n",
       "      <td>0</td>\n",
       "      <td>307893</td>\n",
       "      <td>9/2/2012 18:40</td>\n",
       "      <td>25</td>\n",
       "    </tr>\n",
       "    <tr>\n",
       "      <th>3</th>\n",
       "      <td>ALC Bike Events</td>\n",
       "      <td>17966</td>\n",
       "      <td>2013</td>\n",
       "      <td>10/6/2012 11:22</td>\n",
       "      <td>32494</td>\n",
       "      <td>70</td>\n",
       "      <td>10/2/2012 15:58</td>\n",
       "      <td>online</td>\n",
       "      <td>Credit Card</td>\n",
       "      <td>Teamraiser Participant Gift</td>\n",
       "      <td>...</td>\n",
       "      <td>Team Rider</td>\n",
       "      <td>Active</td>\n",
       "      <td>8/9/2012 23:22</td>\n",
       "      <td>750</td>\n",
       "      <td>NaN</td>\n",
       "      <td>False</td>\n",
       "      <td>0</td>\n",
       "      <td>286443</td>\n",
       "      <td>2/29/2012 15:57</td>\n",
       "      <td>70</td>\n",
       "    </tr>\n",
       "    <tr>\n",
       "      <th>4</th>\n",
       "      <td>ALC Bike Events</td>\n",
       "      <td>17966</td>\n",
       "      <td>2013</td>\n",
       "      <td>10/6/2012 11:22</td>\n",
       "      <td>32881</td>\n",
       "      <td>25</td>\n",
       "      <td>8/17/2012 14:15</td>\n",
       "      <td>online</td>\n",
       "      <td>Credit Card</td>\n",
       "      <td>Teamraiser Participant Gift</td>\n",
       "      <td>...</td>\n",
       "      <td>Team Rider</td>\n",
       "      <td>Active</td>\n",
       "      <td>8/9/2012 23:22</td>\n",
       "      <td>750</td>\n",
       "      <td>NaN</td>\n",
       "      <td>False</td>\n",
       "      <td>0</td>\n",
       "      <td>286443</td>\n",
       "      <td>2/29/2012 15:57</td>\n",
       "      <td>25</td>\n",
       "    </tr>\n",
       "  </tbody>\n",
       "</table>\n",
       "<p>5 rows × 34 columns</p>\n",
       "</div>"
      ],
      "text/plain": [
       "  Security Category Name Event ID Fiscal Year       Event Date Campaign ID  \\\n",
       "0        ALC Bike Events    17966        2013  10/6/2012 11:22       32881   \n",
       "1        ALC Bike Events    17966        2013  10/6/2012 11:22       32881   \n",
       "2        ALC Bike Events    17966        2013  10/6/2012 11:22       32881   \n",
       "3        ALC Bike Events    17966        2013  10/6/2012 11:22       32494   \n",
       "4        ALC Bike Events    17966        2013  10/6/2012 11:22       32881   \n",
       "\n",
       "  Gift Amount($)    Date Recorded Gift Type Gift Payment Method  \\\n",
       "0            100  9/14/2012 17:34    online         Credit Card   \n",
       "1             50  9/21/2012 14:10    online         Credit Card   \n",
       "2             25  9/21/2012 10:43    online         Credit Card   \n",
       "3             70  10/2/2012 15:58    online         Credit Card   \n",
       "4             25  8/17/2012 14:15    online         Credit Card   \n",
       "\n",
       "              Soft Credit Type            ...             \\\n",
       "0  Teamraiser Participant Gift            ...              \n",
       "1  Teamraiser Participant Gift            ...              \n",
       "2  Teamraiser Participant Gift            ...              \n",
       "3  Teamraiser Participant Gift            ...              \n",
       "4  Teamraiser Participant Gift            ...              \n",
       "\n",
       "  Participation Type Name Registration Active Status Registration Date  \\\n",
       "0                   Rider                     Active    9/2/2012 18:40   \n",
       "1                   Rider                     Active    9/2/2012 18:40   \n",
       "2                   Rider                     Active    9/2/2012 18:40   \n",
       "3              Team Rider                     Active    8/9/2012 23:22   \n",
       "4              Team Rider                     Active    8/9/2012 23:22   \n",
       "\n",
       "  Participant Goal($) Is Prior Participant Is Team Captain  \\\n",
       "0                1500                  NaN            True   \n",
       "1                1500                  NaN            True   \n",
       "2                1500                  NaN            True   \n",
       "3                 750                  NaN           False   \n",
       "4                 750                  NaN           False   \n",
       "\n",
       "  Additional Gift Amount($)    Team Team Creation Date  \\\n",
       "0                         0  307893     9/2/2012 18:40   \n",
       "1                         0  307893     9/2/2012 18:40   \n",
       "2                         0  307893     9/2/2012 18:40   \n",
       "3                         0  286443    2/29/2012 15:57   \n",
       "4                         0  286443    2/29/2012 15:57   \n",
       "\n",
       "  Original Value Transacted  \n",
       "0                       100  \n",
       "1                        50  \n",
       "2                        25  \n",
       "3                        70  \n",
       "4                        25  \n",
       "\n",
       "[5 rows x 34 columns]"
      ]
     },
     "execution_count": 54,
     "metadata": {},
     "output_type": "execute_result"
    }
   ],
   "source": [
    "#Check data\n",
    "combined_don.head()"
   ]
  },
  {
   "cell_type": "code",
   "execution_count": 55,
   "metadata": {},
   "outputs": [
    {
     "name": "stdout",
     "output_type": "stream",
     "text": [
      "<class 'pandas.core.frame.DataFrame'>\n",
      "Int64Index: 3807376 entries, 0 to 627497\n",
      "Data columns (total 34 columns):\n",
      "Security Category Name        object\n",
      "Event ID                      object\n",
      "Fiscal Year                   object\n",
      "Event Date                    object\n",
      "Campaign ID                   object\n",
      "Gift Amount($)                object\n",
      "Date Recorded                 object\n",
      "Gift Type                     object\n",
      "Gift Payment Method           object\n",
      "Soft Credit Type              object\n",
      "Is Registration?              object\n",
      "Donor ConsID                  object\n",
      "Donor Member ID               object\n",
      "Donor Affiliate Code          object\n",
      "Donor Gender                  object\n",
      "Donor Accept Email            object\n",
      "Donor Opt-out Date            object\n",
      "Donor Opt-out Method          object\n",
      "Donor Email Status            object\n",
      "Donor State                   object\n",
      "Donor Employer                object\n",
      "Donor Connection to MS        object\n",
      "Participant Contact ID        float64\n",
      "Participant Member ID         object\n",
      "Participation Type Name       object\n",
      "Registration Active Status    object\n",
      "Registration Date             object\n",
      "Participant Goal($)           object\n",
      "Is Prior Participant          object\n",
      "Is Team Captain               object\n",
      "Additional Gift Amount($)     object\n",
      "Team                          object\n",
      "Team Creation Date            object\n",
      "Original Value Transacted     object\n",
      "dtypes: float64(1), object(33)\n",
      "memory usage: 1016.7+ MB\n"
     ]
    }
   ],
   "source": [
    "#Check data types.  Several variables will need to be converted to numeric\n",
    "combined_don.info()"
   ]
  },
  {
   "cell_type": "code",
   "execution_count": 56,
   "metadata": {
    "scrolled": true
   },
   "outputs": [
    {
     "data": {
      "text/plain": [
       "Security Category Name              0\n",
       "Event ID                            0\n",
       "Fiscal Year                         0\n",
       "Event Date                         42\n",
       "Campaign ID                         0\n",
       "Gift Amount($)                      0\n",
       "Date Recorded                       0\n",
       "Gift Type                           0\n",
       "Gift Payment Method                 5\n",
       "Soft Credit Type                    0\n",
       "Is Registration?                    0\n",
       "Donor ConsID                        1\n",
       "Donor Member ID                  4929\n",
       "Donor Affiliate Code            15080\n",
       "Donor Gender                   483829\n",
       "Donor Accept Email                977\n",
       "Donor Opt-out Date            1955163\n",
       "Donor Opt-out Method          1946009\n",
       "Donor Email Status             208621\n",
       "Donor State                     25959\n",
       "Donor Employer                3030392\n",
       "Donor Connection to MS        1681969\n",
       "Participant Contact ID          42369\n",
       "Participant Member ID           47053\n",
       "Participation Type Name         43824\n",
       "Registration Active Status      43824\n",
       "Registration Date               43824\n",
       "Participant Goal($)                12\n",
       "Is Prior Participant          1480729\n",
       "Is Team Captain                 43823\n",
       "Additional Gift Amount($)           5\n",
       "Team                           505043\n",
       "Team Creation Date             505037\n",
       "Original Value Transacted           0\n",
       "dtype: int64"
      ]
     },
     "execution_count": 56,
     "metadata": {},
     "output_type": "execute_result"
    }
   ],
   "source": [
    "#Check null values\n",
    "combined_don.isnull().sum()"
   ]
  },
  {
   "cell_type": "code",
   "execution_count": 57,
   "metadata": {},
   "outputs": [
    {
     "data": {
      "text/plain": [
       "(3802447, 34)"
      ]
     },
     "execution_count": 57,
     "metadata": {},
     "output_type": "execute_result"
    }
   ],
   "source": [
    "#Drop several rows with donor information\n",
    "combined_don = combined_don.dropna(subset=['Donor Member ID'], how='all')\n",
    "combined_don = combined_don.dropna(subset=['Donor ConsID'], how='all')\n",
    "combined_don.shape"
   ]
  },
  {
   "cell_type": "code",
   "execution_count": 58,
   "metadata": {},
   "outputs": [],
   "source": [
    "#Replace null values with reasonable values\n",
    "combined_don = combined_don.fillna({'Event Date' : 'Unknown'})\n",
    "combined_don = combined_don.fillna({'Gift Payment Method' : 'Credit Card'})\n",
    "combined_don = combined_don.fillna({'Donor Affiliate Code' : 'N/A'})\n",
    "combined_don = combined_don.fillna({'Donor Gender' : 'Not Specified'})\n",
    "combined_don = combined_don.fillna({'Donor Accept Email' : 'FALSE'})\n",
    "combined_don = combined_don.fillna({'Donor Opt-out Date' : 'None'})\n",
    "combined_don = combined_don.fillna({'Donor Opt-out Method' : 'None'})\n",
    "combined_don = combined_don.fillna({'Donor Email Status' : 'Unknown'})\n",
    "combined_don = combined_don.fillna({'Donor State' : 'N/A'})\n",
    "combined_don = combined_don.fillna({'Donor Employer' : 'Not Specified'})\n",
    "combined_don = combined_don.fillna({'Donor Connection to MS' : 'Not Specified'})\n",
    "combined_don = combined_don.fillna({'Participant Contact ID' : 'None'})\n",
    "combined_don = combined_don.fillna({'Participant Member ID' : 'None'})\n",
    "combined_don = combined_don.fillna({'Registration Active Status' : 'Inactive'})\n",
    "combined_don = combined_don.fillna({'Participant Goal($)' : '0'})\n",
    "combined_don = combined_don.fillna({'Is Prior Participant' : 'Unknown'})\n",
    "combined_don = combined_don.fillna({'Additional Gift Amount($)' : '0'})\n",
    "combined_don = combined_don.fillna({'Team' : 'None'})\n",
    "combined_don = combined_don.fillna({'Team Creation Date' : 'N/A'})\n",
    "combined_don = combined_don.fillna({'Participation Type Name' : 'Not Specified'})\n",
    "combined_don = combined_don.fillna({'Original Value Transacted' : '0'})\n",
    "combined_don = combined_don.fillna({'Registration Date' : 'N/A'})\n",
    "combined_don = combined_don.fillna({'Is Team Captain' : 'No'}).fillna({'Is Team Captain' : 'No'})"
   ]
  },
  {
   "cell_type": "code",
   "execution_count": 103,
   "metadata": {},
   "outputs": [],
   "source": [
    "#Rename columns to get rid of dollar signs\n",
    "combined_don = combined_don.rename(columns={'Additional Gift Amount($)': 'Additional Gift Amount'})\n",
    "combined_don = combined_don.rename(columns={'Gift Amount($)': 'Gift Amount'})\n",
    "combined_don = combined_don.rename(columns={'Participant Goal($)': 'Participant Goal'})"
   ]
  },
  {
   "cell_type": "code",
   "execution_count": 12,
   "metadata": {},
   "outputs": [
    {
     "data": {
      "text/plain": [
       "Security Category Name        0\n",
       "Event ID                      0\n",
       "Fiscal Year                   0\n",
       "Event Date                    0\n",
       "Campaign ID                   0\n",
       "Gift Amount                   0\n",
       "Date Recorded                 0\n",
       "Gift Type                     0\n",
       "Gift Payment Method           0\n",
       "Soft Credit Type              0\n",
       "Is Registration?              0\n",
       "Donor ConsID                  0\n",
       "Donor Member ID               0\n",
       "Donor Affiliate Code          0\n",
       "Donor Gender                  0\n",
       "Donor Accept Email            0\n",
       "Donor Opt-out Date            0\n",
       "Donor Opt-out Method          0\n",
       "Donor Email Status            0\n",
       "Donor State                   0\n",
       "Donor Employer                0\n",
       "Donor Connection to MS        0\n",
       "Participant Contact ID        0\n",
       "Participant Member ID         0\n",
       "Participation Type Name       0\n",
       "Registration Active Status    0\n",
       "Registration Date             0\n",
       "Participant Goal($)           0\n",
       "Is Prior Participant          0\n",
       "Is Team Captain               0\n",
       "Additional Gift Amount        0\n",
       "Team                          0\n",
       "Team Creation Date            0\n",
       "Original Value Transacted     0\n",
       "dtype: int64"
      ]
     },
     "execution_count": 12,
     "metadata": {},
     "output_type": "execute_result"
    }
   ],
   "source": [
    "#Verify null values have been filled\n",
    "combined_don.isnull().sum()"
   ]
  },
  {
   "cell_type": "code",
   "execution_count": 60,
   "metadata": {},
   "outputs": [
    {
     "data": {
      "text/plain": [
       "online         3022710\n",
       "offline         779723\n",
       "Credit Card          5\n",
       "Check                3\n",
       "ojline               2\n",
       "onlina               2\n",
       "ofbline              1\n",
       "onhine               1\n",
       "Name: Gift Type, dtype: int64"
      ]
     },
     "execution_count": 60,
     "metadata": {},
     "output_type": "execute_result"
    }
   ],
   "source": [
    "#Check value types for Gift Type\n",
    "combined_don['Gift Type'].value_counts()"
   ]
  },
  {
   "cell_type": "code",
   "execution_count": 61,
   "metadata": {},
   "outputs": [],
   "source": [
    "#Fix null values and convert to numeric for easy processing\n",
    "combined_don['Gift Type'] = combined_don['Gift Type'].map({'online' : 1, 'offline' : 0, 'Check' : 0, 'ofbline': 0, 'onlina' : 1,\n",
    "                                                          'ojline' : 1, 'onhine' : 1, 'Credit Card' : 1})"
   ]
  },
  {
   "cell_type": "code",
   "execution_count": 62,
   "metadata": {},
   "outputs": [
    {
     "data": {
      "text/plain": [
       "1    3022715\n",
       "2     779732\n",
       "Name: Gift Type, dtype: int64"
      ]
     },
     "execution_count": 62,
     "metadata": {},
     "output_type": "execute_result"
    }
   ],
   "source": [
    "combined_don['Gift Type'].value_counts()"
   ]
  },
  {
   "cell_type": "code",
   "execution_count": 63,
   "metadata": {},
   "outputs": [
    {
     "name": "stdout",
     "output_type": "stream",
     "text": [
      "184883    8/29/2014 20:31\n",
      "Name: Gift Amount, dtype: object\n"
     ]
    }
   ],
   "source": [
    "#Some values for Gift Amount came in as dates.  Most likely the columns are off, best to drop the rows.\n",
    "print(combined_don['Gift Amount'].iloc[[1065691]])"
   ]
  },
  {
   "cell_type": "code",
   "execution_count": 64,
   "metadata": {},
   "outputs": [],
   "source": [
    "#Remove 5 rows that did not import correctly\n",
    "combined_don = combined_don.drop(combined_don.index[1065691])\n",
    "combined_don = combined_don.drop(combined_don.index[2972895])\n",
    "combined_don = combined_don.drop(combined_don.index[3106511])\n",
    "combined_don = combined_don.drop(combined_don.index[3139560])\n",
    "combined_don = combined_don.drop(combined_don.index[3372868])"
   ]
  },
  {
   "cell_type": "code",
   "execution_count": 65,
   "metadata": {},
   "outputs": [
    {
     "data": {
      "text/plain": [
       "count     3802423.0\n",
       "unique      15048.0\n",
       "top            50.0\n",
       "freq       681794.0\n",
       "Name: Gift Amount, dtype: float64"
      ]
     },
     "execution_count": 65,
     "metadata": {},
     "output_type": "execute_result"
    }
   ],
   "source": [
    "#Check basic statistics for Gift Amount\n",
    "combined_don['Gift Amount'].describe()"
   ]
  },
  {
   "cell_type": "code",
   "execution_count": 66,
   "metadata": {},
   "outputs": [],
   "source": [
    "#Convert to numeric\n",
    "combined_don['Gift Amount'] = pd.to_numeric(combined_don['Gift Amount'])"
   ]
  },
  {
   "cell_type": "code",
   "execution_count": 67,
   "metadata": {},
   "outputs": [
    {
     "data": {
      "text/html": [
       "<div>\n",
       "<style scoped>\n",
       "    .dataframe tbody tr th:only-of-type {\n",
       "        vertical-align: middle;\n",
       "    }\n",
       "\n",
       "    .dataframe tbody tr th {\n",
       "        vertical-align: top;\n",
       "    }\n",
       "\n",
       "    .dataframe thead th {\n",
       "        text-align: right;\n",
       "    }\n",
       "</style>\n",
       "<table border=\"1\" class=\"dataframe\">\n",
       "  <thead>\n",
       "    <tr style=\"text-align: right;\">\n",
       "      <th></th>\n",
       "      <th>Security Category Name</th>\n",
       "      <th>Event ID</th>\n",
       "      <th>Fiscal Year</th>\n",
       "      <th>Event Date</th>\n",
       "      <th>Campaign ID</th>\n",
       "      <th>Gift Amount</th>\n",
       "      <th>Date Recorded</th>\n",
       "      <th>Gift Type</th>\n",
       "      <th>Gift Payment Method</th>\n",
       "      <th>Soft Credit Type</th>\n",
       "      <th>...</th>\n",
       "      <th>Participation Type Name</th>\n",
       "      <th>Registration Active Status</th>\n",
       "      <th>Registration Date</th>\n",
       "      <th>Participant Goal($)</th>\n",
       "      <th>Is Prior Participant</th>\n",
       "      <th>Is Team Captain</th>\n",
       "      <th>Additional Gift Amount</th>\n",
       "      <th>Team</th>\n",
       "      <th>Team Creation Date</th>\n",
       "      <th>Original Value Transacted</th>\n",
       "    </tr>\n",
       "  </thead>\n",
       "  <tbody>\n",
       "    <tr>\n",
       "      <th>582630</th>\n",
       "      <td>UTU Bike Events</td>\n",
       "      <td>28813</td>\n",
       "      <td>2017</td>\n",
       "      <td>6/24/2017 10:18</td>\n",
       "      <td>45044</td>\n",
       "      <td>149175.0</td>\n",
       "      <td>10/4/2017 11:33</td>\n",
       "      <td>2</td>\n",
       "      <td>Check</td>\n",
       "      <td>Teamraiser Event Gift</td>\n",
       "      <td>...</td>\n",
       "      <td>Not Specified</td>\n",
       "      <td>Inactive</td>\n",
       "      <td>N/A</td>\n",
       "      <td>0</td>\n",
       "      <td>Unknown</td>\n",
       "      <td>No</td>\n",
       "      <td>0</td>\n",
       "      <td>None</td>\n",
       "      <td>N/A</td>\n",
       "      <td>149175</td>\n",
       "    </tr>\n",
       "    <tr>\n",
       "      <th>641271</th>\n",
       "      <td>UTU Bike Events</td>\n",
       "      <td>27426</td>\n",
       "      <td>2016</td>\n",
       "      <td>6/25/2016 14:25</td>\n",
       "      <td>44282</td>\n",
       "      <td>142250.0</td>\n",
       "      <td>11/4/2016 11:00</td>\n",
       "      <td>2</td>\n",
       "      <td>Check</td>\n",
       "      <td>Teamraiser Event Gift</td>\n",
       "      <td>...</td>\n",
       "      <td>Not Specified</td>\n",
       "      <td>Inactive</td>\n",
       "      <td>N/A</td>\n",
       "      <td>0</td>\n",
       "      <td>Unknown</td>\n",
       "      <td>No</td>\n",
       "      <td>0</td>\n",
       "      <td>None</td>\n",
       "      <td>N/A</td>\n",
       "      <td>142250</td>\n",
       "    </tr>\n",
       "    <tr>\n",
       "      <th>15666</th>\n",
       "      <td>CAL Bike Events</td>\n",
       "      <td>21167</td>\n",
       "      <td>2014</td>\n",
       "      <td>10/12/2013 18:45</td>\n",
       "      <td>36854</td>\n",
       "      <td>138000.0</td>\n",
       "      <td>10/10/2013 12:49</td>\n",
       "      <td>2</td>\n",
       "      <td>Check</td>\n",
       "      <td>Teamraiser Participant Gift</td>\n",
       "      <td>...</td>\n",
       "      <td>Cyclist</td>\n",
       "      <td>Active</td>\n",
       "      <td>1/25/2013 13:29</td>\n",
       "      <td>60000</td>\n",
       "      <td>Yes</td>\n",
       "      <td>False</td>\n",
       "      <td>0</td>\n",
       "      <td>None</td>\n",
       "      <td>N/A</td>\n",
       "      <td>138000</td>\n",
       "    </tr>\n",
       "    <tr>\n",
       "      <th>723357</th>\n",
       "      <td>UTU Bike Events</td>\n",
       "      <td>24736</td>\n",
       "      <td>2015</td>\n",
       "      <td>6/27/2015 12:33</td>\n",
       "      <td>35576</td>\n",
       "      <td>122195.0</td>\n",
       "      <td>8/25/2015 0:00</td>\n",
       "      <td>2</td>\n",
       "      <td>Check</td>\n",
       "      <td>Teamraiser Event Gift</td>\n",
       "      <td>...</td>\n",
       "      <td>Not Specified</td>\n",
       "      <td>Inactive</td>\n",
       "      <td>N/A</td>\n",
       "      <td>0</td>\n",
       "      <td>Unknown</td>\n",
       "      <td>No</td>\n",
       "      <td>0</td>\n",
       "      <td>None</td>\n",
       "      <td>N/A</td>\n",
       "      <td>122195</td>\n",
       "    </tr>\n",
       "    <tr>\n",
       "      <th>774157</th>\n",
       "      <td>UTU Bike Events</td>\n",
       "      <td>22337</td>\n",
       "      <td>2014</td>\n",
       "      <td>6/28/2014 9:39</td>\n",
       "      <td>35576</td>\n",
       "      <td>108453.0</td>\n",
       "      <td>9/2/2014 9:07</td>\n",
       "      <td>2</td>\n",
       "      <td>Check</td>\n",
       "      <td>Teamraiser Event Gift</td>\n",
       "      <td>...</td>\n",
       "      <td>Not Specified</td>\n",
       "      <td>Inactive</td>\n",
       "      <td>N/A</td>\n",
       "      <td>0</td>\n",
       "      <td>Unknown</td>\n",
       "      <td>No</td>\n",
       "      <td>0</td>\n",
       "      <td>None</td>\n",
       "      <td>N/A</td>\n",
       "      <td>108453</td>\n",
       "    </tr>\n",
       "    <tr>\n",
       "      <th>825336</th>\n",
       "      <td>UTU Bike Events</td>\n",
       "      <td>19245</td>\n",
       "      <td>2013</td>\n",
       "      <td>6/29/2013 8:42</td>\n",
       "      <td>35576</td>\n",
       "      <td>100202.0</td>\n",
       "      <td>8/27/2013 14:43</td>\n",
       "      <td>2</td>\n",
       "      <td>Check</td>\n",
       "      <td>Teamraiser Event Gift</td>\n",
       "      <td>...</td>\n",
       "      <td>Not Specified</td>\n",
       "      <td>Inactive</td>\n",
       "      <td>N/A</td>\n",
       "      <td>0</td>\n",
       "      <td>Unknown</td>\n",
       "      <td>No</td>\n",
       "      <td>0</td>\n",
       "      <td>None</td>\n",
       "      <td>N/A</td>\n",
       "      <td>100202</td>\n",
       "    </tr>\n",
       "    <tr>\n",
       "      <th>189331</th>\n",
       "      <td>KSG Bike Events</td>\n",
       "      <td>22790</td>\n",
       "      <td>2014</td>\n",
       "      <td>9/13/2014 10:19</td>\n",
       "      <td>35553</td>\n",
       "      <td>100000.0</td>\n",
       "      <td>9/30/2014 14:08</td>\n",
       "      <td>2</td>\n",
       "      <td>Check</td>\n",
       "      <td>Teamraiser Participant Gift</td>\n",
       "      <td>...</td>\n",
       "      <td>Cyclist</td>\n",
       "      <td>Active</td>\n",
       "      <td>9/18/2013 14:46</td>\n",
       "      <td>250001</td>\n",
       "      <td>Yes</td>\n",
       "      <td>TRUE</td>\n",
       "      <td>0</td>\n",
       "      <td>353896</td>\n",
       "      <td>9/18/2013 14:46</td>\n",
       "      <td>100000</td>\n",
       "    </tr>\n",
       "    <tr>\n",
       "      <th>65989</th>\n",
       "      <td>COC Bike Events</td>\n",
       "      <td>22981</td>\n",
       "      <td>2014</td>\n",
       "      <td>8/16/2014 15:27</td>\n",
       "      <td>39153</td>\n",
       "      <td>100000.0</td>\n",
       "      <td>8/13/2014 0:00</td>\n",
       "      <td>2</td>\n",
       "      <td>Check</td>\n",
       "      <td>Teamraiser Participant Gift</td>\n",
       "      <td>...</td>\n",
       "      <td>Two-Day Participant</td>\n",
       "      <td>Active</td>\n",
       "      <td>1/7/2014 16:55</td>\n",
       "      <td>30000</td>\n",
       "      <td>Yes</td>\n",
       "      <td>True</td>\n",
       "      <td>0</td>\n",
       "      <td>359192</td>\n",
       "      <td>11/11/2013 11:08</td>\n",
       "      <td>100000</td>\n",
       "    </tr>\n",
       "    <tr>\n",
       "      <th>18674</th>\n",
       "      <td>CAL Bike Events</td>\n",
       "      <td>23843</td>\n",
       "      <td>2015</td>\n",
       "      <td>10/11/2014 11:01</td>\n",
       "      <td>35535</td>\n",
       "      <td>100000.0</td>\n",
       "      <td>10/1/2014 18:12</td>\n",
       "      <td>2</td>\n",
       "      <td>Check</td>\n",
       "      <td>Teamraiser Event Gift</td>\n",
       "      <td>...</td>\n",
       "      <td>Not Specified</td>\n",
       "      <td>Inactive</td>\n",
       "      <td>N/A</td>\n",
       "      <td>0</td>\n",
       "      <td>Unknown</td>\n",
       "      <td>No</td>\n",
       "      <td>0</td>\n",
       "      <td>None</td>\n",
       "      <td>N/A</td>\n",
       "      <td>100000</td>\n",
       "    </tr>\n",
       "    <tr>\n",
       "      <th>86323</th>\n",
       "      <td>COC Bike Events</td>\n",
       "      <td>22980</td>\n",
       "      <td>2014</td>\n",
       "      <td>6/28/2014 15:03</td>\n",
       "      <td>37834</td>\n",
       "      <td>100000.0</td>\n",
       "      <td>8/15/2014 0:00</td>\n",
       "      <td>2</td>\n",
       "      <td>Check</td>\n",
       "      <td>Teamraiser Participant Gift</td>\n",
       "      <td>...</td>\n",
       "      <td>Two-Day Participant</td>\n",
       "      <td>Active</td>\n",
       "      <td>1/30/2014 12:07</td>\n",
       "      <td>400</td>\n",
       "      <td>Yes</td>\n",
       "      <td>False</td>\n",
       "      <td>0</td>\n",
       "      <td>None</td>\n",
       "      <td>N/A</td>\n",
       "      <td>100000</td>\n",
       "    </tr>\n",
       "  </tbody>\n",
       "</table>\n",
       "<p>10 rows × 34 columns</p>\n",
       "</div>"
      ],
      "text/plain": [
       "       Security Category Name Event ID Fiscal Year        Event Date  \\\n",
       "582630        UTU Bike Events    28813        2017   6/24/2017 10:18   \n",
       "641271        UTU Bike Events    27426        2016   6/25/2016 14:25   \n",
       "15666         CAL Bike Events    21167        2014  10/12/2013 18:45   \n",
       "723357        UTU Bike Events    24736        2015   6/27/2015 12:33   \n",
       "774157        UTU Bike Events    22337        2014    6/28/2014 9:39   \n",
       "825336        UTU Bike Events    19245        2013    6/29/2013 8:42   \n",
       "189331        KSG Bike Events    22790        2014   9/13/2014 10:19   \n",
       "65989         COC Bike Events    22981        2014   8/16/2014 15:27   \n",
       "18674         CAL Bike Events    23843        2015  10/11/2014 11:01   \n",
       "86323         COC Bike Events    22980        2014   6/28/2014 15:03   \n",
       "\n",
       "       Campaign ID  Gift Amount     Date Recorded  Gift Type  \\\n",
       "582630       45044     149175.0   10/4/2017 11:33          2   \n",
       "641271       44282     142250.0   11/4/2016 11:00          2   \n",
       "15666        36854     138000.0  10/10/2013 12:49          2   \n",
       "723357       35576     122195.0    8/25/2015 0:00          2   \n",
       "774157       35576     108453.0     9/2/2014 9:07          2   \n",
       "825336       35576     100202.0   8/27/2013 14:43          2   \n",
       "189331       35553     100000.0   9/30/2014 14:08          2   \n",
       "65989        39153     100000.0    8/13/2014 0:00          2   \n",
       "18674        35535     100000.0   10/1/2014 18:12          2   \n",
       "86323        37834     100000.0    8/15/2014 0:00          2   \n",
       "\n",
       "       Gift Payment Method             Soft Credit Type  \\\n",
       "582630               Check        Teamraiser Event Gift   \n",
       "641271               Check        Teamraiser Event Gift   \n",
       "15666                Check  Teamraiser Participant Gift   \n",
       "723357               Check        Teamraiser Event Gift   \n",
       "774157               Check        Teamraiser Event Gift   \n",
       "825336               Check        Teamraiser Event Gift   \n",
       "189331               Check  Teamraiser Participant Gift   \n",
       "65989                Check  Teamraiser Participant Gift   \n",
       "18674                Check        Teamraiser Event Gift   \n",
       "86323                Check  Teamraiser Participant Gift   \n",
       "\n",
       "                  ...            Participation Type Name  \\\n",
       "582630            ...                      Not Specified   \n",
       "641271            ...                      Not Specified   \n",
       "15666             ...                            Cyclist   \n",
       "723357            ...                      Not Specified   \n",
       "774157            ...                      Not Specified   \n",
       "825336            ...                      Not Specified   \n",
       "189331            ...                            Cyclist   \n",
       "65989             ...                Two-Day Participant   \n",
       "18674             ...                      Not Specified   \n",
       "86323             ...                Two-Day Participant   \n",
       "\n",
       "       Registration Active Status Registration Date Participant Goal($)  \\\n",
       "582630                   Inactive               N/A                   0   \n",
       "641271                   Inactive               N/A                   0   \n",
       "15666                      Active   1/25/2013 13:29               60000   \n",
       "723357                   Inactive               N/A                   0   \n",
       "774157                   Inactive               N/A                   0   \n",
       "825336                   Inactive               N/A                   0   \n",
       "189331                     Active   9/18/2013 14:46              250001   \n",
       "65989                      Active    1/7/2014 16:55               30000   \n",
       "18674                    Inactive               N/A                   0   \n",
       "86323                      Active   1/30/2014 12:07                 400   \n",
       "\n",
       "       Is Prior Participant Is Team Captain Additional Gift Amount    Team  \\\n",
       "582630              Unknown              No                      0    None   \n",
       "641271              Unknown              No                      0    None   \n",
       "15666                   Yes           False                      0    None   \n",
       "723357              Unknown              No                      0    None   \n",
       "774157              Unknown              No                      0    None   \n",
       "825336              Unknown              No                      0    None   \n",
       "189331                  Yes            TRUE                      0  353896   \n",
       "65989                   Yes            True                      0  359192   \n",
       "18674               Unknown              No                      0    None   \n",
       "86323                   Yes           False                      0    None   \n",
       "\n",
       "       Team Creation Date Original Value Transacted  \n",
       "582630                N/A                    149175  \n",
       "641271                N/A                    142250  \n",
       "15666                 N/A                    138000  \n",
       "723357                N/A                    122195  \n",
       "774157                N/A                    108453  \n",
       "825336                N/A                    100202  \n",
       "189331    9/18/2013 14:46                    100000  \n",
       "65989    11/11/2013 11:08                    100000  \n",
       "18674                 N/A                    100000  \n",
       "86323                 N/A                    100000  \n",
       "\n",
       "[10 rows x 34 columns]"
      ]
     },
     "execution_count": 67,
     "metadata": {},
     "output_type": "execute_result"
    }
   ],
   "source": [
    "#Check to make sure highest donations are reasonable and not typos\n",
    "combined_don.sort_values(by=['Gift Amount'], ascending=False).head(10)"
   ]
  },
  {
   "cell_type": "markdown",
   "metadata": {},
   "source": [
    "### Gift amounts seem reasonable, so we will go ahead and accept them."
   ]
  },
  {
   "cell_type": "code",
   "execution_count": 68,
   "metadata": {},
   "outputs": [
    {
     "data": {
      "text/plain": [
       "Credit Card    3065034\n",
       "Check           657530\n",
       "Cash             79854\n",
       "confirmed            3\n",
       "Credit Car`          2\n",
       "Name: Gift Payment Method, dtype: int64"
      ]
     },
     "execution_count": 68,
     "metadata": {},
     "output_type": "execute_result"
    }
   ],
   "source": [
    "#Check entries for Gift Payment Method\n",
    "combined_don['Gift Payment Method'].value_counts()"
   ]
  },
  {
   "cell_type": "code",
   "execution_count": 69,
   "metadata": {},
   "outputs": [],
   "source": [
    "#Drop erronous value\n",
    "combined_don = combined_don[combined_don['Gift Payment Method'] != 'confirmed']"
   ]
  },
  {
   "cell_type": "code",
   "execution_count": 70,
   "metadata": {},
   "outputs": [],
   "source": [
    "#Correct entries and convert to numeric\n",
    "combined_don['Gift Payment Method'] = combined_don['Gift Payment Method'].replace({'Credit Card' : 1, 'Check' : 2,\n",
    "                                                                               'Cash' : 3, 'Credit Car`': 1})"
   ]
  },
  {
   "cell_type": "code",
   "execution_count": 71,
   "metadata": {},
   "outputs": [
    {
     "data": {
      "text/plain": [
       "1    3065036\n",
       "2     657530\n",
       "3      79854\n",
       "Name: Gift Payment Method, dtype: int64"
      ]
     },
     "execution_count": 71,
     "metadata": {},
     "output_type": "execute_result"
    }
   ],
   "source": [
    "#Check values\n",
    "combined_don['Gift Payment Method'].value_counts()"
   ]
  },
  {
   "cell_type": "code",
   "execution_count": 72,
   "metadata": {},
   "outputs": [
    {
     "data": {
      "text/plain": [
       "Teamraiser Participant Gift    3760099\n",
       "Teamraiser Team Gift             33326\n",
       "Teamraiser Event Gift             8988\n",
       "Teamraiser Participant Cift          2\n",
       "Teamraiser Participant Gifp          2\n",
       "Teamraiser Participanp Gift          1\n",
       "Taamraiser Participant Gift          1\n",
       "FALSE                                1\n",
       "Name: Soft Credit Type, dtype: int64"
      ]
     },
     "execution_count": 72,
     "metadata": {},
     "output_type": "execute_result"
    }
   ],
   "source": [
    "#Check entries for Soft Credit Type\n",
    "combined_don['Soft Credit Type'].value_counts()"
   ]
  },
  {
   "cell_type": "code",
   "execution_count": 73,
   "metadata": {},
   "outputs": [],
   "source": [
    "#Remove incorrect row\n",
    "combined_don = combined_don[combined_don['Soft Credit Type'] != 'FALSE']"
   ]
  },
  {
   "cell_type": "code",
   "execution_count": 74,
   "metadata": {},
   "outputs": [],
   "source": [
    "#Fix spelling errors and convert to numeric\n",
    "combined_don['Soft Credit Type'] = combined_don['Soft Credit Type'].replace({'Teamraiser Participant Gift' : 1, 'Teamraiser Participant Cift' : 1,\n",
    "                                                           'Teamraiser Participant Gifp' : 1, 'Teamraiser Participanp Gift': 1,\n",
    "                                                           'Taamraiser Participant Gift' : 1, 'Teamraiser Team Gift' : 2, \n",
    "                                                           'Teamraiser Event Gift' : 3})"
   ]
  },
  {
   "cell_type": "code",
   "execution_count": 75,
   "metadata": {},
   "outputs": [
    {
     "data": {
      "text/plain": [
       "False    3235383\n",
       "True      354419\n",
       "FALSE     189785\n",
       "TRUE       22829\n",
       "BALSE          3\n",
       "Name: Is Registration?, dtype: int64"
      ]
     },
     "execution_count": 75,
     "metadata": {},
     "output_type": "execute_result"
    }
   ],
   "source": [
    "#Check values for Is Registration\n",
    "combined_don['Is Registration?'].value_counts()"
   ]
  },
  {
   "cell_type": "code",
   "execution_count": 76,
   "metadata": {},
   "outputs": [],
   "source": [
    "#Convert to numeric\n",
    "combined_don['Is Registration?'] = combined_don['Is Registration?'].replace({'False' : 0, 'FALSE' : 0, 'BALSE' : 0, 'True': 1,\n",
    "                                                           'TRUE' : 1})"
   ]
  },
  {
   "cell_type": "code",
   "execution_count": 80,
   "metadata": {},
   "outputs": [
    {
     "data": {
      "text/plain": [
       "Male             1671013\n",
       "Female           1649953\n",
       "Not Specified     481418\n",
       "F                     17\n",
       "Femala                 4\n",
       "U                      3\n",
       "Feiale                 2\n",
       "M                      2\n",
       "Famale                 1\n",
       "Iale                   1\n",
       "Name: Donor Gender, dtype: int64"
      ]
     },
     "execution_count": 80,
     "metadata": {},
     "output_type": "execute_result"
    }
   ],
   "source": [
    "#Check values for Donor Gender\n",
    "combined_don['Donor Gender'].value_counts()"
   ]
  },
  {
   "cell_type": "code",
   "execution_count": 81,
   "metadata": {},
   "outputs": [],
   "source": [
    "#Drop rows with incorrect values\n",
    "combined_don = combined_don[combined_don['Donor Gender'] != 'TRUE']\n",
    "combined_don = combined_don[combined_don['Donor Gender'] != 'FALSE']"
   ]
  },
  {
   "cell_type": "code",
   "execution_count": 82,
   "metadata": {},
   "outputs": [],
   "source": [
    "#Fix spelling errors and convert to numeric\n",
    "combined_don['Donor Gender'] = combined_don['Donor Gender'].replace({'Male' : 0, 'M' : 0, 'Female' : 1, 'Iale': 0,\n",
    "                                                           'Femala' : 1, 'Feiale' : 1, 'Famale' : 1,\n",
    "                                                           'Not Specified' : 2})"
   ]
  },
  {
   "cell_type": "code",
   "execution_count": 83,
   "metadata": {},
   "outputs": [
    {
     "data": {
      "text/plain": [
       "False    1840245\n",
       "True     1814772\n",
       "TRUE       75877\n",
       "FALSE      71518\n",
       "PRUE           1\n",
       "BALSE          1\n",
       "Name: Donor Accept Email, dtype: int64"
      ]
     },
     "execution_count": 83,
     "metadata": {},
     "output_type": "execute_result"
    }
   ],
   "source": [
    "#Check entries for Donor Accept Email\n",
    "combined_don['Donor Accept Email'].value_counts()"
   ]
  },
  {
   "cell_type": "code",
   "execution_count": 84,
   "metadata": {},
   "outputs": [],
   "source": [
    "#Drop rows with incorrect values\n",
    "combined_don = combined_don[combined_don['Donor Accept Email'] != 'FALSE(9/14/2011 10:16']\n",
    "combined_don = combined_don[combined_don['Donor Accept Email'] != 'TRUE(']"
   ]
  },
  {
   "cell_type": "code",
   "execution_count": 85,
   "metadata": {},
   "outputs": [],
   "source": [
    "#Fix spelling errors and convert to numeric\n",
    "combined_don['Donor Accept Email'] = combined_don['Donor Accept Email'].replace({'False' : 0, 'FALSE' : 0, 'BALSE' : 0, \n",
    "                                                                                'True': 1, 'TRUE' : 1, 'PRUE' : 1})"
   ]
  },
  {
   "cell_type": "code",
   "execution_count": 86,
   "metadata": {},
   "outputs": [
    {
     "data": {
      "text/plain": [
       "None                    1941429\n",
       "Constituent Update       831703\n",
       "Unsubscribe Link         567808\n",
       "Data Sync                434918\n",
       "Administrator Update      26549\n",
       "Constituant Update            2\n",
       "Unsubscribe Hink              1\n",
       "@ata Sync                     1\n",
       "Unknown                       1\n",
       "Constituenp Update            1\n",
       "Unsubscribe Lijk              1\n",
       "Name: Donor Opt-out Method, dtype: int64"
      ]
     },
     "execution_count": 86,
     "metadata": {},
     "output_type": "execute_result"
    }
   ],
   "source": [
    "#Check entries for Donor Opt-out Method\n",
    "combined_don['Donor Opt-out Method'].value_counts()"
   ]
  },
  {
   "cell_type": "code",
   "execution_count": 87,
   "metadata": {},
   "outputs": [],
   "source": [
    "#Drop rows with incorrect values\n",
    "combined_don = combined_don[combined_don['Donor Opt-out Method'] != 'Good']"
   ]
  },
  {
   "cell_type": "code",
   "execution_count": 88,
   "metadata": {},
   "outputs": [],
   "source": [
    "#Fix spelling errors and convert to numeric\n",
    "combined_don['Donor Opt-out Method'] = combined_don['Donor Opt-out Method'].replace({'Constituent Update' : 1, 'Constituant Update' : 1,\n",
    "                                                           'Unsubscribe Link' : 2, 'Unsubscribe Lijk': 2, 'Constituenp Update' : 1,\n",
    "                                                           'Data Sync' : 3, '@ata Sync' : 3, 'Unknown' : 0, 'None' : 0,\n",
    "                                                           'Administrator Update' : 4, 'Unsubscribe Hink': 2,})"
   ]
  },
  {
   "cell_type": "code",
   "execution_count": 90,
   "metadata": {},
   "outputs": [
    {
     "data": {
      "text/plain": [
       "Good                 2987939\n",
       "Unknown               482408\n",
       "Bad (Hard Bounce)     242712\n",
       "Bad (Soft Bounce)      89348\n",
       "Goo`                       1\n",
       "Sun Valley                 1\n",
       "Bad (Soft Bkunce)          1\n",
       "Cood                       1\n",
       "Good(Philadelphia          1\n",
       "Bad (Sofp Bounce)          1\n",
       "Gkod                       1\n",
       "Name: Donor Email Status, dtype: int64"
      ]
     },
     "execution_count": 90,
     "metadata": {},
     "output_type": "execute_result"
    }
   ],
   "source": [
    "#Check entries for Donor Email Status\n",
    "combined_don['Donor Email Status'].value_counts()"
   ]
  },
  {
   "cell_type": "code",
   "execution_count": 91,
   "metadata": {},
   "outputs": [],
   "source": [
    "#Drop rows with incorrect values\n",
    "combined_don = combined_don[combined_don['Donor Email Status'] != 'Good(Philadelphia']\n",
    "combined_don = combined_don[combined_don['Donor Email Status'] != 'Sun Valley']"
   ]
  },
  {
   "cell_type": "code",
   "execution_count": 92,
   "metadata": {},
   "outputs": [],
   "source": [
    "#Fix spelling errors and convert to numeric\n",
    "combined_don['Donor Email Status'] = combined_don['Donor Email Status'].replace({'Good' : 1, 'Gkod' : 1,\n",
    "                                                           'Goo`' : 1, 'Cood': 1, 'Unknown' : 0, 'Bad (Soft Bkunce)' : 2,\n",
    "                                                           'Bad (Hard Bounce)' : 2, 'Bad (Soft Bounce)' : 2,\n",
    "                                                           'Bad (Sofp Bounce)' : 2, 'Unsubscribe Hink': 2})"
   ]
  },
  {
   "cell_type": "code",
   "execution_count": 93,
   "metadata": {},
   "outputs": [
    {
     "data": {
      "text/plain": [
       "Not Specified                              1680464\n",
       "Friend has MS                               833637\n",
       "None                                        345583\n",
       "Relative has MS                             310177\n",
       "Blank                                       215627\n",
       "Other                                       130453\n",
       "I have MS                                    94596\n",
       "Sibling has MS                               59975\n",
       "Parent has MS                                52060\n",
       "Spouse has MS                                35610\n",
       "Child has MS                                 30452\n",
       "I have a Friend or Co-worker with MS          9812\n",
       "Caregiver of Person with MS                   2023\n",
       "Possible MS                                    875\n",
       "Care Manager of Person with MS                 738\n",
       "Relative: other                                 63\n",
       "Relative: Spouse of person with MS              36\n",
       "Relative: Child of person with MS               31\n",
       "I have a Friend of Co-worker with MS            30\n",
       "Relative: Parent of person with MS              25\n",
       "Relative: Sibling of person with MS             25\n",
       "Caregiver of person with MS                     23\n",
       "Relative: Other                                 14\n",
       "My friend has MS                                13\n",
       "My sibling has MS                               10\n",
       "My spouse has MS                                 9\n",
       "I have a friend or co-worker with MS             9\n",
       "No connection                                    7\n",
       "Brother had MS                                   5\n",
       "My relative has MS                               4\n",
       "My child has MS                                  4\n",
       "Relative: Child or person with MS                4\n",
       "My parent has MS                                 2\n",
       "FRIEND CLIEN                                     2\n",
       "7104697                                          1\n",
       "(14068228                                        1\n",
       "2157460                                          1\n",
       "Other(15767842                                   1\n",
       "Bhank                                            1\n",
       "1707635                                          1\n",
       "1994569                                          1\n",
       "16246098                                         1\n",
       "Wife has MS                                      1\n",
       "(4564506                                         1\n",
       "9588529                                          1\n",
       "Nkne                                             1\n",
       "Relative has MS(12975626                         1\n",
       "I am a care manager of a person with MS          1\n",
       "Name: Donor Connection to MS, dtype: int64"
      ]
     },
     "execution_count": 93,
     "metadata": {},
     "output_type": "execute_result"
    }
   ],
   "source": [
    "#Check entries for Donor Connection to MS\n",
    "combined_don['Donor Connection to MS'].value_counts()"
   ]
  },
  {
   "cell_type": "code",
   "execution_count": 94,
   "metadata": {},
   "outputs": [],
   "source": [
    "#Drop rows with incorrect values\n",
    "combined_don = combined_don[combined_don['Donor Connection to MS'] != '1707635']\n",
    "combined_don = combined_don[combined_don['Donor Connection to MS'] != '7104697']\n",
    "combined_don = combined_don[combined_don['Donor Connection to MS'] != '2157460']\n",
    "combined_don = combined_don[combined_don['Donor Connection to MS'] != 'Other(15767842']\n",
    "combined_don = combined_don[combined_don['Donor Connection to MS'] != '(14068228']\n",
    "combined_don = combined_don[combined_don['Donor Connection to MS'] != '1994569']\n",
    "combined_don = combined_don[combined_don['Donor Connection to MS'] != '16246098']\n",
    "combined_don = combined_don[combined_don['Donor Connection to MS'] != '(4564506']\n",
    "combined_don = combined_don[combined_don['Donor Connection to MS'] != 'Relative has MS(12975626']\n",
    "combined_don = combined_don[combined_don['Donor Connection to MS'] != '9588529']"
   ]
  },
  {
   "cell_type": "code",
   "execution_count": 95,
   "metadata": {},
   "outputs": [],
   "source": [
    "#There are many different values, so we will set 0 to no relation and set 1 to any relation\n",
    "combined_don['Donor Connection to MS'] = combined_don['Donor Connection to MS'].map({'None' : 0, 'Blank' : 0,\n",
    "                                                           'Other' : 0, 'Not Specified' : 0, 'Bhank' : 0,\n",
    "                                                            'No connection' : 0})"
   ]
  },
  {
   "cell_type": "code",
   "execution_count": 96,
   "metadata": {},
   "outputs": [],
   "source": [
    "#Fill null values created with 1\n",
    "combined_don = combined_don.fillna({'Donor Connection to MS' : 1})"
   ]
  },
  {
   "cell_type": "code",
   "execution_count": 98,
   "metadata": {},
   "outputs": [
    {
     "data": {
      "text/plain": [
       "0.0    2372135\n",
       "1.0    1430267\n",
       "Name: Donor Connection to MS, dtype: int64"
      ]
     },
     "execution_count": 98,
     "metadata": {},
     "output_type": "execute_result"
    }
   ],
   "source": [
    "#Check values\n",
    "combined_don['Donor Connection to MS'].value_counts()"
   ]
  },
  {
   "cell_type": "code",
   "execution_count": 99,
   "metadata": {},
   "outputs": [
    {
     "data": {
      "text/plain": [
       "Active                   3740187\n",
       "Inactive                   62203\n",
       "Acpive                         4\n",
       "Actire                         3\n",
       "9/20/2013 11:37                1\n",
       "Active(4/1/2016 23:58          1\n",
       "2/14/2012 16:52                1\n",
       "1/17/2016 23:48                1\n",
       "10/22/2015 6:54                1\n",
       "Name: Registration Active Status, dtype: int64"
      ]
     },
     "execution_count": 99,
     "metadata": {},
     "output_type": "execute_result"
    }
   ],
   "source": [
    "#Check entries for Registration Active Status\n",
    "combined_don['Registration Active Status'].value_counts()"
   ]
  },
  {
   "cell_type": "code",
   "execution_count": 100,
   "metadata": {},
   "outputs": [],
   "source": [
    "#Drop rows with incorrect values\n",
    "combined_don = combined_don[combined_don['Registration Active Status'] != '9/20/2013 11:37']\n",
    "combined_don = combined_don[combined_don['Registration Active Status'] != 'Active(4/1/2016 23:58']\n",
    "combined_don = combined_don[combined_don['Registration Active Status'] != '2/14/2012 16:52']\n",
    "combined_don = combined_don[combined_don['Registration Active Status'] != '10/22/2015 6:54']\n",
    "combined_don = combined_don[combined_don['Registration Active Status'] != '1/17/2016 23:48']"
   ]
  },
  {
   "cell_type": "code",
   "execution_count": 102,
   "metadata": {},
   "outputs": [],
   "source": [
    "#Fix spelling errors and convert to numeric\n",
    "combined_don['Donor Email Status'] = combined_don['Registration Active Status'].replace({'Active' : 1, 'Acpive' : 1,\n",
    "                                                           'Actire' : 1, 'Inactive': 0})"
   ]
  },
  {
   "cell_type": "code",
   "execution_count": 116,
   "metadata": {},
   "outputs": [],
   "source": [
    "#Drop rows with incorrect values\n",
    "combined_don = combined_don.drop(combined_don.index[652423])\n",
    "combined_don = combined_don.drop(combined_don.index[1550992])\n",
    "combined_don = combined_don.drop(combined_don.index[2224757])\n",
    "combined_don = combined_don.drop(combined_don.index[2867237])\n",
    "combined_don = combined_don.drop(combined_don.index[2885030])\n",
    "combined_don = combined_don.drop(combined_don.index[2938448])"
   ]
  },
  {
   "cell_type": "code",
   "execution_count": 117,
   "metadata": {},
   "outputs": [],
   "source": [
    "combined_don['Participant Goal'] = pd.to_numeric(combined_don['Participant Goal'])"
   ]
  },
  {
   "cell_type": "code",
   "execution_count": 118,
   "metadata": {},
   "outputs": [
    {
     "data": {
      "text/plain": [
       "count    3.802369e+06\n",
       "mean     5.911196e+03\n",
       "std      1.057181e+06\n",
       "min      0.000000e+00\n",
       "25%      4.000000e+02\n",
       "50%      1.000000e+03\n",
       "75%      2.000000e+03\n",
       "max      5.000000e+08\n",
       "Name: Participant Goal, dtype: float64"
      ]
     },
     "execution_count": 118,
     "metadata": {},
     "output_type": "execute_result"
    }
   ],
   "source": [
    "combined_don['Participant Goal'].describe()"
   ]
  },
  {
   "cell_type": "code",
   "execution_count": 127,
   "metadata": {},
   "outputs": [
    {
     "data": {
      "text/html": [
       "<div>\n",
       "<style scoped>\n",
       "    .dataframe tbody tr th:only-of-type {\n",
       "        vertical-align: middle;\n",
       "    }\n",
       "\n",
       "    .dataframe tbody tr th {\n",
       "        vertical-align: top;\n",
       "    }\n",
       "\n",
       "    .dataframe thead th {\n",
       "        text-align: right;\n",
       "    }\n",
       "</style>\n",
       "<table border=\"1\" class=\"dataframe\">\n",
       "  <thead>\n",
       "    <tr style=\"text-align: right;\">\n",
       "      <th></th>\n",
       "      <th>Security Category Name</th>\n",
       "      <th>Event ID</th>\n",
       "      <th>Fiscal Year</th>\n",
       "      <th>Event Date</th>\n",
       "      <th>Campaign ID</th>\n",
       "      <th>Gift Amount</th>\n",
       "      <th>Date Recorded</th>\n",
       "      <th>Gift Type</th>\n",
       "      <th>Gift Payment Method</th>\n",
       "      <th>Soft Credit Type</th>\n",
       "      <th>...</th>\n",
       "      <th>Participation Type Name</th>\n",
       "      <th>Registration Active Status</th>\n",
       "      <th>Registration Date</th>\n",
       "      <th>Participant Goal</th>\n",
       "      <th>Is Prior Participant</th>\n",
       "      <th>Is Team Captain</th>\n",
       "      <th>Additional Gift Amount</th>\n",
       "      <th>Team</th>\n",
       "      <th>Team Creation Date</th>\n",
       "      <th>Original Value Transacted</th>\n",
       "    </tr>\n",
       "  </thead>\n",
       "  <tbody>\n",
       "    <tr>\n",
       "      <th>77427</th>\n",
       "      <td>COC Bike Events</td>\n",
       "      <td>25572</td>\n",
       "      <td>2015</td>\n",
       "      <td>6/27/2015 13:42</td>\n",
       "      <td>40995</td>\n",
       "      <td>0.0</td>\n",
       "      <td>1/9/2015 13:56</td>\n",
       "      <td>1</td>\n",
       "      <td>1</td>\n",
       "      <td>1</td>\n",
       "      <td>...</td>\n",
       "      <td>Fort Collins Loop</td>\n",
       "      <td>Active</td>\n",
       "      <td>1/9/2015 13:56</td>\n",
       "      <td>21474836.47</td>\n",
       "      <td>Yes</td>\n",
       "      <td>False</td>\n",
       "      <td>0</td>\n",
       "      <td>414256</td>\n",
       "      <td>1/9/2015 12:28</td>\n",
       "      <td>40</td>\n",
       "    </tr>\n",
       "    <tr>\n",
       "      <th>477440</th>\n",
       "      <td>PAE Bike Events</td>\n",
       "      <td>25223</td>\n",
       "      <td>2015</td>\n",
       "      <td>9/26/2015 10:47</td>\n",
       "      <td>41715</td>\n",
       "      <td>100.0</td>\n",
       "      <td>10/1/2015 21:54</td>\n",
       "      <td>1</td>\n",
       "      <td>1</td>\n",
       "      <td>1</td>\n",
       "      <td>...</td>\n",
       "      <td>Cyclist</td>\n",
       "      <td>Active</td>\n",
       "      <td>4/22/2015 15:47</td>\n",
       "      <td>21474836.47</td>\n",
       "      <td>Yes</td>\n",
       "      <td>False</td>\n",
       "      <td>0</td>\n",
       "      <td>404856</td>\n",
       "      <td>10/10/2014 11:04</td>\n",
       "      <td>100</td>\n",
       "    </tr>\n",
       "    <tr>\n",
       "      <th>477442</th>\n",
       "      <td>PAE Bike Events</td>\n",
       "      <td>25223</td>\n",
       "      <td>2015</td>\n",
       "      <td>9/26/2015 10:47</td>\n",
       "      <td>41715</td>\n",
       "      <td>50.0</td>\n",
       "      <td>9/22/2015 18:36</td>\n",
       "      <td>1</td>\n",
       "      <td>1</td>\n",
       "      <td>1</td>\n",
       "      <td>...</td>\n",
       "      <td>Cyclist</td>\n",
       "      <td>Active</td>\n",
       "      <td>4/22/2015 15:47</td>\n",
       "      <td>21474836.47</td>\n",
       "      <td>Yes</td>\n",
       "      <td>False</td>\n",
       "      <td>0</td>\n",
       "      <td>404856</td>\n",
       "      <td>10/10/2014 11:04</td>\n",
       "      <td>50</td>\n",
       "    </tr>\n",
       "    <tr>\n",
       "      <th>477443</th>\n",
       "      <td>PAE Bike Events</td>\n",
       "      <td>25223</td>\n",
       "      <td>2015</td>\n",
       "      <td>9/26/2015 10:47</td>\n",
       "      <td>41715</td>\n",
       "      <td>25.0</td>\n",
       "      <td>10/2/2015 19:59</td>\n",
       "      <td>1</td>\n",
       "      <td>1</td>\n",
       "      <td>1</td>\n",
       "      <td>...</td>\n",
       "      <td>Cyclist</td>\n",
       "      <td>Active</td>\n",
       "      <td>4/22/2015 15:47</td>\n",
       "      <td>21474836.47</td>\n",
       "      <td>Yes</td>\n",
       "      <td>False</td>\n",
       "      <td>0</td>\n",
       "      <td>404856</td>\n",
       "      <td>10/10/2014 11:04</td>\n",
       "      <td>25</td>\n",
       "    </tr>\n",
       "    <tr>\n",
       "      <th>477449</th>\n",
       "      <td>PAE Bike Events</td>\n",
       "      <td>25223</td>\n",
       "      <td>2015</td>\n",
       "      <td>9/26/2015 10:47</td>\n",
       "      <td>41715</td>\n",
       "      <td>700.0</td>\n",
       "      <td>10/21/2015 9:23</td>\n",
       "      <td>2</td>\n",
       "      <td>2</td>\n",
       "      <td>1</td>\n",
       "      <td>...</td>\n",
       "      <td>Cyclist</td>\n",
       "      <td>Active</td>\n",
       "      <td>4/22/2015 15:47</td>\n",
       "      <td>21474836.47</td>\n",
       "      <td>Yes</td>\n",
       "      <td>False</td>\n",
       "      <td>0</td>\n",
       "      <td>404856</td>\n",
       "      <td>10/10/2014 11:04</td>\n",
       "      <td>700</td>\n",
       "    </tr>\n",
       "    <tr>\n",
       "      <th>477448</th>\n",
       "      <td>PAE Bike Events</td>\n",
       "      <td>25223</td>\n",
       "      <td>2015</td>\n",
       "      <td>9/26/2015 10:47</td>\n",
       "      <td>41715</td>\n",
       "      <td>50.0</td>\n",
       "      <td>9/16/2015 11:58</td>\n",
       "      <td>1</td>\n",
       "      <td>1</td>\n",
       "      <td>1</td>\n",
       "      <td>...</td>\n",
       "      <td>Cyclist</td>\n",
       "      <td>Active</td>\n",
       "      <td>4/22/2015 15:47</td>\n",
       "      <td>21474836.47</td>\n",
       "      <td>Yes</td>\n",
       "      <td>False</td>\n",
       "      <td>0</td>\n",
       "      <td>404856</td>\n",
       "      <td>10/10/2014 11:04</td>\n",
       "      <td>50</td>\n",
       "    </tr>\n",
       "    <tr>\n",
       "      <th>477447</th>\n",
       "      <td>PAE Bike Events</td>\n",
       "      <td>25223</td>\n",
       "      <td>2015</td>\n",
       "      <td>9/26/2015 10:47</td>\n",
       "      <td>41715</td>\n",
       "      <td>50.0</td>\n",
       "      <td>9/16/2015 21:22</td>\n",
       "      <td>1</td>\n",
       "      <td>1</td>\n",
       "      <td>1</td>\n",
       "      <td>...</td>\n",
       "      <td>Cyclist</td>\n",
       "      <td>Active</td>\n",
       "      <td>4/22/2015 15:47</td>\n",
       "      <td>21474836.47</td>\n",
       "      <td>Yes</td>\n",
       "      <td>False</td>\n",
       "      <td>0</td>\n",
       "      <td>404856</td>\n",
       "      <td>10/10/2014 11:04</td>\n",
       "      <td>50</td>\n",
       "    </tr>\n",
       "    <tr>\n",
       "      <th>477446</th>\n",
       "      <td>PAE Bike Events</td>\n",
       "      <td>25223</td>\n",
       "      <td>2015</td>\n",
       "      <td>9/26/2015 10:47</td>\n",
       "      <td>41715</td>\n",
       "      <td>200.0</td>\n",
       "      <td>9/29/2015 7:23</td>\n",
       "      <td>2</td>\n",
       "      <td>2</td>\n",
       "      <td>1</td>\n",
       "      <td>...</td>\n",
       "      <td>Cyclist</td>\n",
       "      <td>Active</td>\n",
       "      <td>4/22/2015 15:47</td>\n",
       "      <td>21474836.47</td>\n",
       "      <td>Yes</td>\n",
       "      <td>False</td>\n",
       "      <td>0</td>\n",
       "      <td>404856</td>\n",
       "      <td>10/10/2014 11:04</td>\n",
       "      <td>200</td>\n",
       "    </tr>\n",
       "    <tr>\n",
       "      <th>77425</th>\n",
       "      <td>COC Bike Events</td>\n",
       "      <td>25572</td>\n",
       "      <td>2015</td>\n",
       "      <td>6/27/2015 13:42</td>\n",
       "      <td>40995</td>\n",
       "      <td>250.0</td>\n",
       "      <td>6/26/2015 16:58</td>\n",
       "      <td>1</td>\n",
       "      <td>1</td>\n",
       "      <td>1</td>\n",
       "      <td>...</td>\n",
       "      <td>Fort Collins Loop</td>\n",
       "      <td>Active</td>\n",
       "      <td>1/9/2015 13:56</td>\n",
       "      <td>21474836.47</td>\n",
       "      <td>Yes</td>\n",
       "      <td>False</td>\n",
       "      <td>0</td>\n",
       "      <td>414256</td>\n",
       "      <td>1/9/2015 12:28</td>\n",
       "      <td>250</td>\n",
       "    </tr>\n",
       "    <tr>\n",
       "      <th>77426</th>\n",
       "      <td>COC Bike Events</td>\n",
       "      <td>25572</td>\n",
       "      <td>2015</td>\n",
       "      <td>6/27/2015 13:42</td>\n",
       "      <td>40995</td>\n",
       "      <td>200.0</td>\n",
       "      <td>6/8/2015 0:00</td>\n",
       "      <td>2</td>\n",
       "      <td>2</td>\n",
       "      <td>1</td>\n",
       "      <td>...</td>\n",
       "      <td>Fort Collins Loop</td>\n",
       "      <td>Active</td>\n",
       "      <td>1/9/2015 13:56</td>\n",
       "      <td>21474836.47</td>\n",
       "      <td>Yes</td>\n",
       "      <td>False</td>\n",
       "      <td>0</td>\n",
       "      <td>414256</td>\n",
       "      <td>1/9/2015 12:28</td>\n",
       "      <td>200</td>\n",
       "    </tr>\n",
       "  </tbody>\n",
       "</table>\n",
       "<p>10 rows × 34 columns</p>\n",
       "</div>"
      ],
      "text/plain": [
       "       Security Category Name Event ID Fiscal Year       Event Date  \\\n",
       "77427         COC Bike Events    25572        2015  6/27/2015 13:42   \n",
       "477440        PAE Bike Events    25223        2015  9/26/2015 10:47   \n",
       "477442        PAE Bike Events    25223        2015  9/26/2015 10:47   \n",
       "477443        PAE Bike Events    25223        2015  9/26/2015 10:47   \n",
       "477449        PAE Bike Events    25223        2015  9/26/2015 10:47   \n",
       "477448        PAE Bike Events    25223        2015  9/26/2015 10:47   \n",
       "477447        PAE Bike Events    25223        2015  9/26/2015 10:47   \n",
       "477446        PAE Bike Events    25223        2015  9/26/2015 10:47   \n",
       "77425         COC Bike Events    25572        2015  6/27/2015 13:42   \n",
       "77426         COC Bike Events    25572        2015  6/27/2015 13:42   \n",
       "\n",
       "       Campaign ID  Gift Amount    Date Recorded  Gift Type  \\\n",
       "77427        40995          0.0   1/9/2015 13:56          1   \n",
       "477440       41715        100.0  10/1/2015 21:54          1   \n",
       "477442       41715         50.0  9/22/2015 18:36          1   \n",
       "477443       41715         25.0  10/2/2015 19:59          1   \n",
       "477449       41715        700.0  10/21/2015 9:23          2   \n",
       "477448       41715         50.0  9/16/2015 11:58          1   \n",
       "477447       41715         50.0  9/16/2015 21:22          1   \n",
       "477446       41715        200.0   9/29/2015 7:23          2   \n",
       "77425        40995        250.0  6/26/2015 16:58          1   \n",
       "77426        40995        200.0    6/8/2015 0:00          2   \n",
       "\n",
       "        Gift Payment Method  Soft Credit Type            ...             \\\n",
       "77427                     1                 1            ...              \n",
       "477440                    1                 1            ...              \n",
       "477442                    1                 1            ...              \n",
       "477443                    1                 1            ...              \n",
       "477449                    2                 1            ...              \n",
       "477448                    1                 1            ...              \n",
       "477447                    1                 1            ...              \n",
       "477446                    2                 1            ...              \n",
       "77425                     1                 1            ...              \n",
       "77426                     2                 1            ...              \n",
       "\n",
       "       Participation Type Name Registration Active Status Registration Date  \\\n",
       "77427        Fort Collins Loop                     Active    1/9/2015 13:56   \n",
       "477440                 Cyclist                     Active   4/22/2015 15:47   \n",
       "477442                 Cyclist                     Active   4/22/2015 15:47   \n",
       "477443                 Cyclist                     Active   4/22/2015 15:47   \n",
       "477449                 Cyclist                     Active   4/22/2015 15:47   \n",
       "477448                 Cyclist                     Active   4/22/2015 15:47   \n",
       "477447                 Cyclist                     Active   4/22/2015 15:47   \n",
       "477446                 Cyclist                     Active   4/22/2015 15:47   \n",
       "77425        Fort Collins Loop                     Active    1/9/2015 13:56   \n",
       "77426        Fort Collins Loop                     Active    1/9/2015 13:56   \n",
       "\n",
       "       Participant Goal Is Prior Participant Is Team Captain  \\\n",
       "77427       21474836.47                  Yes           False   \n",
       "477440      21474836.47                  Yes           False   \n",
       "477442      21474836.47                  Yes           False   \n",
       "477443      21474836.47                  Yes           False   \n",
       "477449      21474836.47                  Yes           False   \n",
       "477448      21474836.47                  Yes           False   \n",
       "477447      21474836.47                  Yes           False   \n",
       "477446      21474836.47                  Yes           False   \n",
       "77425       21474836.47                  Yes           False   \n",
       "77426       21474836.47                  Yes           False   \n",
       "\n",
       "       Additional Gift Amount    Team  Team Creation Date  \\\n",
       "77427                       0  414256      1/9/2015 12:28   \n",
       "477440                      0  404856    10/10/2014 11:04   \n",
       "477442                      0  404856    10/10/2014 11:04   \n",
       "477443                      0  404856    10/10/2014 11:04   \n",
       "477449                      0  404856    10/10/2014 11:04   \n",
       "477448                      0  404856    10/10/2014 11:04   \n",
       "477447                      0  404856    10/10/2014 11:04   \n",
       "477446                      0  404856    10/10/2014 11:04   \n",
       "77425                       0  414256      1/9/2015 12:28   \n",
       "77426                       0  414256      1/9/2015 12:28   \n",
       "\n",
       "       Original Value Transacted  \n",
       "77427                         40  \n",
       "477440                       100  \n",
       "477442                        50  \n",
       "477443                        25  \n",
       "477449                       700  \n",
       "477448                        50  \n",
       "477447                        50  \n",
       "477446                       200  \n",
       "77425                        250  \n",
       "77426                        200  \n",
       "\n",
       "[10 rows x 34 columns]"
      ]
     },
     "execution_count": 127,
     "metadata": {},
     "output_type": "execute_result"
    }
   ],
   "source": [
    "combined_don.sort_values(by=['Participant Goal'], ascending=False).head(10)"
   ]
  },
  {
   "cell_type": "markdown",
   "metadata": {},
   "source": [
    "### Values for Participant Goal are obviously too large.  Replace any value over 100,000 with the default, 1095."
   ]
  },
  {
   "cell_type": "code",
   "execution_count": 128,
   "metadata": {},
   "outputs": [],
   "source": [
    "combined_don.loc[combined_don['Participant Goal'] > 100000] = 1095"
   ]
  },
  {
   "cell_type": "code",
   "execution_count": 129,
   "metadata": {},
   "outputs": [
    {
     "data": {
      "text/plain": [
       "count    3.802369e+06\n",
       "mean     2.337972e+03\n",
       "std      5.627123e+03\n",
       "min      0.000000e+00\n",
       "25%      4.000000e+02\n",
       "50%      1.000000e+03\n",
       "75%      2.000000e+03\n",
       "max      1.000000e+05\n",
       "Name: Participant Goal, dtype: float64"
      ]
     },
     "execution_count": 129,
     "metadata": {},
     "output_type": "execute_result"
    }
   ],
   "source": [
    "#Check basic statistics for Participant Goal\n",
    "combined_don['Participant Goal'].describe()"
   ]
  },
  {
   "cell_type": "code",
   "execution_count": 130,
   "metadata": {},
   "outputs": [
    {
     "data": {
      "text/plain": [
       "Yes        2321278\n",
       "Unknown    1477952\n",
       "1095          3138\n",
       "(                1\n",
       "Name: Is Prior Participant, dtype: int64"
      ]
     },
     "execution_count": 130,
     "metadata": {},
     "output_type": "execute_result"
    }
   ],
   "source": [
    "#Check values for Is Prior Participant\n",
    "combined_don['Is Prior Participant'].value_counts()"
   ]
  },
  {
   "cell_type": "code",
   "execution_count": 131,
   "metadata": {},
   "outputs": [],
   "source": [
    "#Drop rows with incorrect values\n",
    "combined_don = combined_don[combined_don['Is Prior Participant'] != '1095']\n",
    "combined_don = combined_don[combined_don['Is Prior Participant'] != '(']"
   ]
  },
  {
   "cell_type": "code",
   "execution_count": 132,
   "metadata": {
    "scrolled": true
   },
   "outputs": [
    {
     "data": {
      "text/plain": [
       "False    2711922\n",
       "FALSE     549333\n",
       "True      402962\n",
       "TRUE       91241\n",
       "No         43767\n",
       "1095        3138\n",
       "PRUE           2\n",
       "BALSE          2\n",
       "FALSA          1\n",
       "Name: Is Team Captain, dtype: int64"
      ]
     },
     "execution_count": 132,
     "metadata": {},
     "output_type": "execute_result"
    }
   ],
   "source": [
    "combined_don['Is Team Captain'].value_counts()"
   ]
  },
  {
   "cell_type": "code",
   "execution_count": 133,
   "metadata": {},
   "outputs": [],
   "source": [
    "combined_don['Is Team Captain'] = combined_don['Is Team Captain'].replace({'False' : 0, 'FALSE' : 0, 'BALSE' : 0, 'FALSA' : 0,\n",
    "                                                           'No' : 0, 'True': 1, 'TRUE' : 1, 'PRUE' : 1})"
   ]
  },
  {
   "cell_type": "code",
   "execution_count": 144,
   "metadata": {},
   "outputs": [
    {
     "data": {
      "text/plain": [
       "(3802363, 34)"
      ]
     },
     "execution_count": 144,
     "metadata": {},
     "output_type": "execute_result"
    }
   ],
   "source": [
    "combined_don.shape"
   ]
  },
  {
   "cell_type": "markdown",
   "metadata": {},
   "source": [
    "### Data Quality Assessment\n",
    "Overall, the data quality of this data set is pretty good.  There were some errors and misspelled values as well as some rows data not importing into the correct columns.  Also, several key columns had a significant number of null values.  After cleaning and transformation the dataset is ready for analysis."
   ]
  },
  {
   "cell_type": "code",
   "execution_count": null,
   "metadata": {},
   "outputs": [],
   "source": []
  }
 ],
 "metadata": {
  "kernelspec": {
   "display_name": "Python 3",
   "language": "python",
   "name": "python3"
  },
  "language_info": {
   "codemirror_mode": {
    "name": "ipython",
    "version": 3
   },
   "file_extension": ".py",
   "mimetype": "text/x-python",
   "name": "python",
   "nbconvert_exporter": "python",
   "pygments_lexer": "ipython3",
   "version": "3.7.1"
  }
 },
 "nbformat": 4,
 "nbformat_minor": 2
}
