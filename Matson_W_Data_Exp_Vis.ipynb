{
 "cells": [
  {
   "cell_type": "markdown",
   "metadata": {},
   "source": [
    "## Data Visulization and Exploration\n",
    "####  Identify the factors that are correlated to Gift Amount\n",
    "####  Identify the trends that are changing with time"
   ]
  },
  {
   "cell_type": "code",
   "execution_count": 3,
   "metadata": {},
   "outputs": [],
   "source": [
    "#import python packages \n",
    "import pandas as pd\n",
    "import numpy as np\n",
    "import matplotlib.pyplot as plt\n",
    "import seaborn as sns\n",
    "\n",
    "%matplotlib inline"
   ]
  },
  {
   "cell_type": "code",
   "execution_count": 4,
   "metadata": {},
   "outputs": [
    {
     "name": "stderr",
     "output_type": "stream",
     "text": [
      "C:\\Users\\Wesley\\Anaconda3\\lib\\site-packages\\IPython\\core\\interactiveshell.py:3020: DtypeWarning: Columns (13,23,24,31) have mixed types. Specify dtype option on import or set low_memory=False.\n",
      "  interactivity=interactivity, compiler=compiler, result=result)\n"
     ]
    }
   ],
   "source": [
    "# Import Data after processing\n",
    "don =  pd.read_csv(\"data/donations.csv\")"
   ]
  },
  {
   "cell_type": "code",
   "execution_count": 5,
   "metadata": {},
   "outputs": [],
   "source": [
    "# Remove observations that are from 2011\n",
    "don = don[don['Fiscal Year'] != 2011]"
   ]
  },
  {
   "cell_type": "code",
   "execution_count": 6,
   "metadata": {},
   "outputs": [
    {
     "data": {
      "text/plain": [
       "count    3.799162e+06\n",
       "mean     9.120257e+01\n",
       "std      3.683310e+02\n",
       "min      0.000000e+00\n",
       "25%      2.500000e+01\n",
       "50%      5.000000e+01\n",
       "75%      1.000000e+02\n",
       "max      1.491750e+05\n",
       "Name: Gift Amount, dtype: float64"
      ]
     },
     "execution_count": 6,
     "metadata": {},
     "output_type": "execute_result"
    }
   ],
   "source": [
    "# Check basic statistics for gift amount\n",
    "don['Gift Amount'].describe()"
   ]
  },
  {
   "cell_type": "markdown",
   "metadata": {},
   "source": [
    "Here we can see that the average gift amount is $91.20.  This is an important value that can be used as a benchmark.  Also we can see that the distribution of gift amount is highly skewed by several large donations."
   ]
  },
  {
   "cell_type": "code",
   "execution_count": 7,
   "metadata": {},
   "outputs": [
    {
     "data": {
      "text/plain": [
       "<matplotlib.axes._subplots.AxesSubplot at 0x1bc2c1b87f0>"
      ]
     },
     "execution_count": 7,
     "metadata": {},
     "output_type": "execute_result"
    },
    {
     "data": {
      "image/png": "[encoded data removed]",
      "text/plain": [
       "<Figure size 432x288 with 1 Axes>"
      ]
     },
     "metadata": {
      "needs_background": "light"
     },
     "output_type": "display_data"
    }
   ],
   "source": [
    "#Check the number of donations for each year\n",
    "don[['Gift Amount', 'Fiscal Year']].groupby('Fiscal Year').count().plot(kind='Bar')"
   ]
  },
  {
   "cell_type": "markdown",
   "metadata": {},
   "source": [
    "Number of dononations decreasing each year."
   ]
  },
  {
   "cell_type": "code",
   "execution_count": 10,
   "metadata": {},
   "outputs": [
    {
     "data": {
      "text/plain": [
       "<matplotlib.axes._subplots.AxesSubplot at 0x1bb8d717198>"
      ]
     },
     "execution_count": 10,
     "metadata": {},
     "output_type": "execute_result"
    },
    {
     "data": {
      "image/png": "[encoded data removed]",
      "text/plain": [
       "<Figure size 432x288 with 1 Axes>"
      ]
     },
     "metadata": {
      "needs_background": "light"
     },
     "output_type": "display_data"
    }
   ],
   "source": [
    "#Check the donation sum each year\n",
    "don[['Gift Amount', 'Fiscal Year']].groupby('Fiscal Year').sum().plot(kind='Bar')"
   ]
  },
  {
   "cell_type": "markdown",
   "metadata": {},
   "source": [
    "The last two years have seen significant revenue decrease."
   ]
  },
  {
   "cell_type": "code",
   "execution_count": 5,
   "metadata": {},
   "outputs": [
    {
     "data": {
      "text/plain": [
       "<matplotlib.axes._subplots.AxesSubplot at 0x2ba2c2195f8>"
      ]
     },
     "execution_count": 5,
     "metadata": {},
     "output_type": "execute_result"
    },
    {
     "data": {
      "image/png": "[encoded data removed]",
      "text/plain": [
       "<Figure size 432x288 with 1 Axes>"
      ]
     },
     "metadata": {
      "needs_background": "light"
     },
     "output_type": "display_data"
    }
   ],
   "source": [
    "#Check how gift amount changes with time.\n",
    "don[['Gift Amount', 'Fiscal Year']].groupby('Fiscal Year').mean().plot(kind='Bar')"
   ]
  },
  {
   "cell_type": "markdown",
   "metadata": {},
   "source": [
    "Even though revenue is dropping, the average gift amount is steadily increasing."
   ]
  },
  {
   "cell_type": "code",
   "execution_count": 7,
   "metadata": {},
   "outputs": [
    {
     "data": {
      "text/html": [
       "<div>\n",
       "<style scoped>\n",
       "    .dataframe tbody tr th:only-of-type {\n",
       "        vertical-align: middle;\n",
       "    }\n",
       "\n",
       "    .dataframe tbody tr th {\n",
       "        vertical-align: top;\n",
       "    }\n",
       "\n",
       "    .dataframe thead th {\n",
       "        text-align: right;\n",
       "    }\n",
       "</style>\n",
       "<table border=\"1\" class=\"dataframe\">\n",
       "  <thead>\n",
       "    <tr style=\"text-align: right;\">\n",
       "      <th></th>\n",
       "      <th>Gift Amount</th>\n",
       "    </tr>\n",
       "    <tr>\n",
       "      <th>Event ID</th>\n",
       "      <th></th>\n",
       "    </tr>\n",
       "  </thead>\n",
       "  <tbody>\n",
       "    <tr>\n",
       "      <th>19339</th>\n",
       "      <td>2176.469167</td>\n",
       "    </tr>\n",
       "    <tr>\n",
       "      <th>25526</th>\n",
       "      <td>1240.625000</td>\n",
       "    </tr>\n",
       "    <tr>\n",
       "      <th>21417</th>\n",
       "      <td>364.000000</td>\n",
       "    </tr>\n",
       "    <tr>\n",
       "      <th>21414</th>\n",
       "      <td>267.713918</td>\n",
       "    </tr>\n",
       "    <tr>\n",
       "      <th>21419</th>\n",
       "      <td>262.306667</td>\n",
       "    </tr>\n",
       "    <tr>\n",
       "      <th>23838</th>\n",
       "      <td>238.565737</td>\n",
       "    </tr>\n",
       "    <tr>\n",
       "      <th>19337</th>\n",
       "      <td>221.091146</td>\n",
       "    </tr>\n",
       "    <tr>\n",
       "      <th>24857</th>\n",
       "      <td>217.913553</td>\n",
       "    </tr>\n",
       "    <tr>\n",
       "      <th>23840</th>\n",
       "      <td>205.941176</td>\n",
       "    </tr>\n",
       "    <tr>\n",
       "      <th>27868</th>\n",
       "      <td>163.730167</td>\n",
       "    </tr>\n",
       "    <tr>\n",
       "      <th>25927</th>\n",
       "      <td>161.562650</td>\n",
       "    </tr>\n",
       "    <tr>\n",
       "      <th>28790</th>\n",
       "      <td>148.099953</td>\n",
       "    </tr>\n",
       "    <tr>\n",
       "      <th>23317</th>\n",
       "      <td>147.342318</td>\n",
       "    </tr>\n",
       "    <tr>\n",
       "      <th>28813</th>\n",
       "      <td>146.591900</td>\n",
       "    </tr>\n",
       "    <tr>\n",
       "      <th>22981</th>\n",
       "      <td>145.106190</td>\n",
       "    </tr>\n",
       "    <tr>\n",
       "      <th>27770</th>\n",
       "      <td>143.775945</td>\n",
       "    </tr>\n",
       "    <tr>\n",
       "      <th>21047</th>\n",
       "      <td>143.350716</td>\n",
       "    </tr>\n",
       "    <tr>\n",
       "      <th>27426</th>\n",
       "      <td>142.927136</td>\n",
       "    </tr>\n",
       "    <tr>\n",
       "      <th>25928</th>\n",
       "      <td>140.338686</td>\n",
       "    </tr>\n",
       "    <tr>\n",
       "      <th>26136</th>\n",
       "      <td>137.654375</td>\n",
       "    </tr>\n",
       "  </tbody>\n",
       "</table>\n",
       "</div>"
      ],
      "text/plain": [
       "          Gift Amount\n",
       "Event ID             \n",
       "19339     2176.469167\n",
       "25526     1240.625000\n",
       "21417      364.000000\n",
       "21414      267.713918\n",
       "21419      262.306667\n",
       "23838      238.565737\n",
       "19337      221.091146\n",
       "24857      217.913553\n",
       "23840      205.941176\n",
       "27868      163.730167\n",
       "25927      161.562650\n",
       "28790      148.099953\n",
       "23317      147.342318\n",
       "28813      146.591900\n",
       "22981      145.106190\n",
       "27770      143.775945\n",
       "21047      143.350716\n",
       "27426      142.927136\n",
       "25928      140.338686\n",
       "26136      137.654375"
      ]
     },
     "execution_count": 7,
     "metadata": {},
     "output_type": "execute_result"
    }
   ],
   "source": [
    "#Check the average gift amount for each event.  This will show us how important individual events are.\n",
    "don[['Gift Amount', 'Event ID']].groupby('Event ID').mean().sort_values(by='Gift Amount', ascending=False).head(20)"
   ]
  },
  {
   "cell_type": "code",
   "execution_count": 8,
   "metadata": {},
   "outputs": [
    {
     "data": {
      "text/html": [
       "<div>\n",
       "<style scoped>\n",
       "    .dataframe tbody tr th:only-of-type {\n",
       "        vertical-align: middle;\n",
       "    }\n",
       "\n",
       "    .dataframe tbody tr th {\n",
       "        vertical-align: top;\n",
       "    }\n",
       "\n",
       "    .dataframe thead th {\n",
       "        text-align: right;\n",
       "    }\n",
       "</style>\n",
       "<table border=\"1\" class=\"dataframe\">\n",
       "  <thead>\n",
       "    <tr style=\"text-align: right;\">\n",
       "      <th></th>\n",
       "      <th>Gift Amount</th>\n",
       "    </tr>\n",
       "    <tr>\n",
       "      <th>Event ID</th>\n",
       "      <th></th>\n",
       "    </tr>\n",
       "  </thead>\n",
       "  <tbody>\n",
       "    <tr>\n",
       "      <th>25298</th>\n",
       "      <td>17911313.47</td>\n",
       "    </tr>\n",
       "    <tr>\n",
       "      <th>22598</th>\n",
       "      <td>17495574.53</td>\n",
       "    </tr>\n",
       "    <tr>\n",
       "      <th>20226</th>\n",
       "      <td>15631285.67</td>\n",
       "    </tr>\n",
       "    <tr>\n",
       "      <th>27003</th>\n",
       "      <td>14022350.44</td>\n",
       "    </tr>\n",
       "    <tr>\n",
       "      <th>28263</th>\n",
       "      <td>12581788.39</td>\n",
       "    </tr>\n",
       "    <tr>\n",
       "      <th>22817</th>\n",
       "      <td>5652058.68</td>\n",
       "    </tr>\n",
       "    <tr>\n",
       "      <th>20331</th>\n",
       "      <td>5522478.29</td>\n",
       "    </tr>\n",
       "    <tr>\n",
       "      <th>25223</th>\n",
       "      <td>5211226.09</td>\n",
       "    </tr>\n",
       "    <tr>\n",
       "      <th>27061</th>\n",
       "      <td>4654624.04</td>\n",
       "    </tr>\n",
       "    <tr>\n",
       "      <th>28216</th>\n",
       "      <td>4471742.61</td>\n",
       "    </tr>\n",
       "    <tr>\n",
       "      <th>22980</th>\n",
       "      <td>3657419.52</td>\n",
       "    </tr>\n",
       "    <tr>\n",
       "      <th>20901</th>\n",
       "      <td>3343766.71</td>\n",
       "    </tr>\n",
       "    <tr>\n",
       "      <th>27037</th>\n",
       "      <td>3331072.50</td>\n",
       "    </tr>\n",
       "    <tr>\n",
       "      <th>25572</th>\n",
       "      <td>3159618.42</td>\n",
       "    </tr>\n",
       "    <tr>\n",
       "      <th>28914</th>\n",
       "      <td>3120324.44</td>\n",
       "    </tr>\n",
       "    <tr>\n",
       "      <th>21176</th>\n",
       "      <td>2878535.32</td>\n",
       "    </tr>\n",
       "    <tr>\n",
       "      <th>27006</th>\n",
       "      <td>2833758.91</td>\n",
       "    </tr>\n",
       "    <tr>\n",
       "      <th>24936</th>\n",
       "      <td>2828578.93</td>\n",
       "    </tr>\n",
       "    <tr>\n",
       "      <th>28105</th>\n",
       "      <td>2800718.90</td>\n",
       "    </tr>\n",
       "    <tr>\n",
       "      <th>19263</th>\n",
       "      <td>2757752.19</td>\n",
       "    </tr>\n",
       "  </tbody>\n",
       "</table>\n",
       "</div>"
      ],
      "text/plain": [
       "          Gift Amount\n",
       "Event ID             \n",
       "25298     17911313.47\n",
       "22598     17495574.53\n",
       "20226     15631285.67\n",
       "27003     14022350.44\n",
       "28263     12581788.39\n",
       "22817      5652058.68\n",
       "20331      5522478.29\n",
       "25223      5211226.09\n",
       "27061      4654624.04\n",
       "28216      4471742.61\n",
       "22980      3657419.52\n",
       "20901      3343766.71\n",
       "27037      3331072.50\n",
       "25572      3159618.42\n",
       "28914      3120324.44\n",
       "21176      2878535.32\n",
       "27006      2833758.91\n",
       "24936      2828578.93\n",
       "28105      2800718.90\n",
       "19263      2757752.19"
      ]
     },
     "execution_count": 8,
     "metadata": {},
     "output_type": "execute_result"
    }
   ],
   "source": [
    "#Check revenue for each event.\n",
    "don[['Gift Amount', 'Event ID']].groupby('Event ID').sum().sort_values(by='Gift Amount', ascending=False).head(20)"
   ]
  },
  {
   "cell_type": "markdown",
   "metadata": {},
   "source": [
    "The best events have significantly higher donation averages than the average.  Maintaning legacy events will be important in preserving profitablity in the future"
   ]
  },
  {
   "cell_type": "code",
   "execution_count": 9,
   "metadata": {},
   "outputs": [
    {
     "data": {
      "text/html": [
       "<div>\n",
       "<style scoped>\n",
       "    .dataframe tbody tr th:only-of-type {\n",
       "        vertical-align: middle;\n",
       "    }\n",
       "\n",
       "    .dataframe tbody tr th {\n",
       "        vertical-align: top;\n",
       "    }\n",
       "\n",
       "    .dataframe thead th {\n",
       "        text-align: right;\n",
       "    }\n",
       "</style>\n",
       "<table border=\"1\" class=\"dataframe\">\n",
       "  <thead>\n",
       "    <tr style=\"text-align: right;\">\n",
       "      <th></th>\n",
       "      <th>Gift Amount</th>\n",
       "    </tr>\n",
       "    <tr>\n",
       "      <th>Campaign ID</th>\n",
       "      <th></th>\n",
       "    </tr>\n",
       "  </thead>\n",
       "  <tbody>\n",
       "    <tr>\n",
       "      <th>37098</th>\n",
       "      <td>364.000000</td>\n",
       "    </tr>\n",
       "    <tr>\n",
       "      <th>37095</th>\n",
       "      <td>267.713918</td>\n",
       "    </tr>\n",
       "    <tr>\n",
       "      <th>37101</th>\n",
       "      <td>262.306667</td>\n",
       "    </tr>\n",
       "    <tr>\n",
       "      <th>39922</th>\n",
       "      <td>238.565737</td>\n",
       "    </tr>\n",
       "    <tr>\n",
       "      <th>39924</th>\n",
       "      <td>205.941176</td>\n",
       "    </tr>\n",
       "    <tr>\n",
       "      <th>44454</th>\n",
       "      <td>163.730167</td>\n",
       "    </tr>\n",
       "    <tr>\n",
       "      <th>42394</th>\n",
       "      <td>161.562650</td>\n",
       "    </tr>\n",
       "    <tr>\n",
       "      <th>39554</th>\n",
       "      <td>147.342318</td>\n",
       "    </tr>\n",
       "    <tr>\n",
       "      <th>45044</th>\n",
       "      <td>146.591900</td>\n",
       "    </tr>\n",
       "    <tr>\n",
       "      <th>39153</th>\n",
       "      <td>144.461676</td>\n",
       "    </tr>\n",
       "    <tr>\n",
       "      <th>44282</th>\n",
       "      <td>142.927136</td>\n",
       "    </tr>\n",
       "    <tr>\n",
       "      <th>42893</th>\n",
       "      <td>137.668007</td>\n",
       "    </tr>\n",
       "    <tr>\n",
       "      <th>42073</th>\n",
       "      <td>130.719813</td>\n",
       "    </tr>\n",
       "    <tr>\n",
       "      <th>39917</th>\n",
       "      <td>129.571571</td>\n",
       "    </tr>\n",
       "    <tr>\n",
       "      <th>36838</th>\n",
       "      <td>125.249874</td>\n",
       "    </tr>\n",
       "    <tr>\n",
       "      <th>44414</th>\n",
       "      <td>121.783727</td>\n",
       "    </tr>\n",
       "    <tr>\n",
       "      <th>44594</th>\n",
       "      <td>121.688630</td>\n",
       "    </tr>\n",
       "    <tr>\n",
       "      <th>35536</th>\n",
       "      <td>119.731481</td>\n",
       "    </tr>\n",
       "    <tr>\n",
       "      <th>36854</th>\n",
       "      <td>119.071721</td>\n",
       "    </tr>\n",
       "    <tr>\n",
       "      <th>35576</th>\n",
       "      <td>118.865464</td>\n",
       "    </tr>\n",
       "  </tbody>\n",
       "</table>\n",
       "</div>"
      ],
      "text/plain": [
       "             Gift Amount\n",
       "Campaign ID             \n",
       "37098         364.000000\n",
       "37095         267.713918\n",
       "37101         262.306667\n",
       "39922         238.565737\n",
       "39924         205.941176\n",
       "44454         163.730167\n",
       "42394         161.562650\n",
       "39554         147.342318\n",
       "45044         146.591900\n",
       "39153         144.461676\n",
       "44282         142.927136\n",
       "42893         137.668007\n",
       "42073         130.719813\n",
       "39917         129.571571\n",
       "36838         125.249874\n",
       "44414         121.783727\n",
       "44594         121.688630\n",
       "35536         119.731481\n",
       "36854         119.071721\n",
       "35576         118.865464"
      ]
     },
     "execution_count": 9,
     "metadata": {},
     "output_type": "execute_result"
    }
   ],
   "source": [
    "#check average gift amount for each campain.\n",
    "don[['Gift Amount', 'Campaign ID']].groupby('Campaign ID').mean().sort_values(by='Gift Amount', ascending=False).head(20)"
   ]
  },
  {
   "cell_type": "code",
   "execution_count": 10,
   "metadata": {},
   "outputs": [
    {
     "data": {
      "text/html": [
       "<div>\n",
       "<style scoped>\n",
       "    .dataframe tbody tr th:only-of-type {\n",
       "        vertical-align: middle;\n",
       "    }\n",
       "\n",
       "    .dataframe tbody tr th {\n",
       "        vertical-align: top;\n",
       "    }\n",
       "\n",
       "    .dataframe thead th {\n",
       "        text-align: right;\n",
       "    }\n",
       "</style>\n",
       "<table border=\"1\" class=\"dataframe\">\n",
       "  <thead>\n",
       "    <tr style=\"text-align: right;\">\n",
       "      <th></th>\n",
       "      <th>Gift Amount</th>\n",
       "    </tr>\n",
       "    <tr>\n",
       "      <th>Campaign ID</th>\n",
       "      <th></th>\n",
       "    </tr>\n",
       "  </thead>\n",
       "  <tbody>\n",
       "    <tr>\n",
       "      <th>41373</th>\n",
       "      <td>17911313.47</td>\n",
       "    </tr>\n",
       "    <tr>\n",
       "      <th>38872</th>\n",
       "      <td>17495574.53</td>\n",
       "    </tr>\n",
       "    <tr>\n",
       "      <th>35352</th>\n",
       "      <td>15631260.67</td>\n",
       "    </tr>\n",
       "    <tr>\n",
       "      <th>44959</th>\n",
       "      <td>15040938.13</td>\n",
       "    </tr>\n",
       "    <tr>\n",
       "      <th>35555</th>\n",
       "      <td>14181202.82</td>\n",
       "    </tr>\n",
       "    <tr>\n",
       "      <th>44120</th>\n",
       "      <td>14022350.44</td>\n",
       "    </tr>\n",
       "    <tr>\n",
       "      <th>35571</th>\n",
       "      <td>10900677.52</td>\n",
       "    </tr>\n",
       "    <tr>\n",
       "      <th>41008</th>\n",
       "      <td>6700915.08</td>\n",
       "    </tr>\n",
       "    <tr>\n",
       "      <th>35564</th>\n",
       "      <td>5534493.33</td>\n",
       "    </tr>\n",
       "    <tr>\n",
       "      <th>35593</th>\n",
       "      <td>5522478.29</td>\n",
       "    </tr>\n",
       "    <tr>\n",
       "      <th>41715</th>\n",
       "      <td>5211226.09</td>\n",
       "    </tr>\n",
       "    <tr>\n",
       "      <th>35559</th>\n",
       "      <td>4927284.84</td>\n",
       "    </tr>\n",
       "    <tr>\n",
       "      <th>41015</th>\n",
       "      <td>4914215.79</td>\n",
       "    </tr>\n",
       "    <tr>\n",
       "      <th>44973</th>\n",
       "      <td>4471692.61</td>\n",
       "    </tr>\n",
       "    <tr>\n",
       "      <th>35582</th>\n",
       "      <td>4382599.48</td>\n",
       "    </tr>\n",
       "    <tr>\n",
       "      <th>35537</th>\n",
       "      <td>4356194.94</td>\n",
       "    </tr>\n",
       "    <tr>\n",
       "      <th>35547</th>\n",
       "      <td>4242052.65</td>\n",
       "    </tr>\n",
       "    <tr>\n",
       "      <th>35544</th>\n",
       "      <td>3681385.07</td>\n",
       "    </tr>\n",
       "    <tr>\n",
       "      <th>37834</th>\n",
       "      <td>3659535.52</td>\n",
       "    </tr>\n",
       "    <tr>\n",
       "      <th>35562</th>\n",
       "      <td>3651824.51</td>\n",
       "    </tr>\n",
       "  </tbody>\n",
       "</table>\n",
       "</div>"
      ],
      "text/plain": [
       "             Gift Amount\n",
       "Campaign ID             \n",
       "41373        17911313.47\n",
       "38872        17495574.53\n",
       "35352        15631260.67\n",
       "44959        15040938.13\n",
       "35555        14181202.82\n",
       "44120        14022350.44\n",
       "35571        10900677.52\n",
       "41008         6700915.08\n",
       "35564         5534493.33\n",
       "35593         5522478.29\n",
       "41715         5211226.09\n",
       "35559         4927284.84\n",
       "41015         4914215.79\n",
       "44973         4471692.61\n",
       "35582         4382599.48\n",
       "35537         4356194.94\n",
       "35547         4242052.65\n",
       "35544         3681385.07\n",
       "37834         3659535.52\n",
       "35562         3651824.51"
      ]
     },
     "execution_count": 10,
     "metadata": {},
     "output_type": "execute_result"
    }
   ],
   "source": [
    "#Check total gift amount for each campain.\n",
    "don[['Gift Amount', 'Campaign ID']].groupby('Campaign ID').sum().sort_values(by='Gift Amount', ascending=False).head(20)"
   ]
  },
  {
   "cell_type": "code",
   "execution_count": 11,
   "metadata": {},
   "outputs": [
    {
     "data": {
      "text/html": [
       "<div>\n",
       "<style scoped>\n",
       "    .dataframe tbody tr th:only-of-type {\n",
       "        vertical-align: middle;\n",
       "    }\n",
       "\n",
       "    .dataframe tbody tr th {\n",
       "        vertical-align: top;\n",
       "    }\n",
       "\n",
       "    .dataframe thead th {\n",
       "        text-align: right;\n",
       "    }\n",
       "</style>\n",
       "<table border=\"1\" class=\"dataframe\">\n",
       "  <thead>\n",
       "    <tr style=\"text-align: right;\">\n",
       "      <th></th>\n",
       "      <th>Gift Amount</th>\n",
       "    </tr>\n",
       "    <tr>\n",
       "      <th>Gift Type</th>\n",
       "      <th></th>\n",
       "    </tr>\n",
       "  </thead>\n",
       "  <tbody>\n",
       "    <tr>\n",
       "      <th>0</th>\n",
       "      <td>137.983370</td>\n",
       "    </tr>\n",
       "    <tr>\n",
       "      <th>1</th>\n",
       "      <td>79.140695</td>\n",
       "    </tr>\n",
       "  </tbody>\n",
       "</table>\n",
       "</div>"
      ],
      "text/plain": [
       "           Gift Amount\n",
       "Gift Type             \n",
       "0           137.983370\n",
       "1            79.140695"
      ]
     },
     "execution_count": 11,
     "metadata": {},
     "output_type": "execute_result"
    }
   ],
   "source": [
    "#Gift type:\n",
    "# 0: offline, 1: online\n",
    "don[['Gift Amount', 'Gift Type']].groupby('Gift Type').mean()"
   ]
  },
  {
   "cell_type": "code",
   "execution_count": null,
   "metadata": {},
   "outputs": [],
   "source": [
    "Offline gifts have a significantly higher average that online gifts"
   ]
  },
  {
   "cell_type": "code",
   "execution_count": 12,
   "metadata": {},
   "outputs": [
    {
     "name": "stderr",
     "output_type": "stream",
     "text": [
      "C:\\Users\\Wesley\\Anaconda3\\lib\\site-packages\\scipy\\stats\\stats.py:1713: FutureWarning: Using a non-tuple sequence for multidimensional indexing is deprecated; use `arr[tuple(seq)]` instead of `arr[seq]`. In the future this will be interpreted as an array index, `arr[np.array(seq)]`, which will result either in an error or a different result.\n",
      "  return np.add.reduce(sorted[indexer] * weights, axis=axis) / sumval\n"
     ]
    },
    {
     "data": {
      "text/plain": [
       "<seaborn.axisgrid.FacetGrid at 0x2b9cbdb44e0>"
      ]
     },
     "execution_count": 12,
     "metadata": {},
     "output_type": "execute_result"
    },
    {
     "data": {
      "image/png": "[encoded data removed]",
      "text/plain": [
       "<Figure size 925.859x432 with 1 Axes>"
      ]
     },
     "metadata": {
      "needs_background": "light"
     },
     "output_type": "display_data"
    }
   ],
   "source": [
    "#Check how the average gift amount changes with time\n",
    "sns.catplot('Gift Type', 'Gift Amount', 'Fiscal Year', data=don, kind='bar', \n",
    "               height=6, aspect=2, palette=\"muted\")"
   ]
  },
  {
   "cell_type": "markdown",
   "metadata": {},
   "source": [
    "Offline gifts are increasing while online gifts are flat."
   ]
  },
  {
   "cell_type": "code",
   "execution_count": 13,
   "metadata": {},
   "outputs": [
    {
     "data": {
      "text/html": [
       "<div>\n",
       "<style scoped>\n",
       "    .dataframe tbody tr th:only-of-type {\n",
       "        vertical-align: middle;\n",
       "    }\n",
       "\n",
       "    .dataframe tbody tr th {\n",
       "        vertical-align: top;\n",
       "    }\n",
       "\n",
       "    .dataframe thead th {\n",
       "        text-align: right;\n",
       "    }\n",
       "</style>\n",
       "<table border=\"1\" class=\"dataframe\">\n",
       "  <thead>\n",
       "    <tr style=\"text-align: right;\">\n",
       "      <th></th>\n",
       "      <th>Gift Amount</th>\n",
       "    </tr>\n",
       "    <tr>\n",
       "      <th>Gift Payment Method</th>\n",
       "      <th></th>\n",
       "    </tr>\n",
       "  </thead>\n",
       "  <tbody>\n",
       "    <tr>\n",
       "      <th>1</th>\n",
       "      <td>79.579799</td>\n",
       "    </tr>\n",
       "    <tr>\n",
       "      <th>2</th>\n",
       "      <td>148.283362</td>\n",
       "    </tr>\n",
       "    <tr>\n",
       "      <th>3</th>\n",
       "      <td>67.636075</td>\n",
       "    </tr>\n",
       "  </tbody>\n",
       "</table>\n",
       "</div>"
      ],
      "text/plain": [
       "                     Gift Amount\n",
       "Gift Payment Method             \n",
       "1                      79.579799\n",
       "2                     148.283362\n",
       "3                      67.636075"
      ]
     },
     "execution_count": 13,
     "metadata": {},
     "output_type": "execute_result"
    }
   ],
   "source": [
    "#Gift payment method\n",
    "# 1: Credit Card 2: Check 3: Cash\n",
    "don[['Gift Amount', 'Gift Payment Method']].groupby('Gift Payment Method').mean()"
   ]
  },
  {
   "cell_type": "markdown",
   "metadata": {},
   "source": [
    "Checks have higher average gift amount then credit card or cash"
   ]
  },
  {
   "cell_type": "code",
   "execution_count": 14,
   "metadata": {},
   "outputs": [
    {
     "data": {
      "text/html": [
       "<div>\n",
       "<style scoped>\n",
       "    .dataframe tbody tr th:only-of-type {\n",
       "        vertical-align: middle;\n",
       "    }\n",
       "\n",
       "    .dataframe tbody tr th {\n",
       "        vertical-align: top;\n",
       "    }\n",
       "\n",
       "    .dataframe thead th {\n",
       "        text-align: right;\n",
       "    }\n",
       "</style>\n",
       "<table border=\"1\" class=\"dataframe\">\n",
       "  <thead>\n",
       "    <tr style=\"text-align: right;\">\n",
       "      <th></th>\n",
       "      <th>Gift Amount</th>\n",
       "    </tr>\n",
       "    <tr>\n",
       "      <th>Gift Payment Method</th>\n",
       "      <th></th>\n",
       "    </tr>\n",
       "  </thead>\n",
       "  <tbody>\n",
       "    <tr>\n",
       "      <th>1</th>\n",
       "      <td>3062718</td>\n",
       "    </tr>\n",
       "    <tr>\n",
       "      <th>2</th>\n",
       "      <td>656596</td>\n",
       "    </tr>\n",
       "    <tr>\n",
       "      <th>3</th>\n",
       "      <td>79848</td>\n",
       "    </tr>\n",
       "  </tbody>\n",
       "</table>\n",
       "</div>"
      ],
      "text/plain": [
       "                     Gift Amount\n",
       "Gift Payment Method             \n",
       "1                        3062718\n",
       "2                         656596\n",
       "3                          79848"
      ]
     },
     "execution_count": 14,
     "metadata": {},
     "output_type": "execute_result"
    }
   ],
   "source": [
    "don[['Gift Amount', 'Gift Payment Method']].groupby('Gift Payment Method').count()"
   ]
  },
  {
   "cell_type": "markdown",
   "metadata": {},
   "source": [
    "The most frequent gift are credit card followed by check."
   ]
  },
  {
   "cell_type": "code",
   "execution_count": 15,
   "metadata": {},
   "outputs": [
    {
     "data": {
      "text/plain": [
       "<matplotlib.axes._subplots.AxesSubplot at 0x2b9cc3853c8>"
      ]
     },
     "execution_count": 15,
     "metadata": {},
     "output_type": "execute_result"
    },
    {
     "data": {
      "image/png": "[encoded data removed]",
      "text/plain": [
       "<Figure size 432x288 with 1 Axes>"
      ]
     },
     "metadata": {
      "needs_background": "light"
     },
     "output_type": "display_data"
    }
   ],
   "source": [
    "#Check revenue in each gift type.\n",
    "don[['Gift Amount', 'Gift Payment Method', 'Fiscal Year']].groupby([ 'Fiscal Year', 'Gift Payment Method']).count().plot(kind='Bar')"
   ]
  },
  {
   "cell_type": "markdown",
   "metadata": {},
   "source": [
    "Here is the revenue from each gift type.  We can see revenues dropping in each type."
   ]
  },
  {
   "cell_type": "code",
   "execution_count": 16,
   "metadata": {},
   "outputs": [
    {
     "data": {
      "text/html": [
       "<div>\n",
       "<style scoped>\n",
       "    .dataframe tbody tr th:only-of-type {\n",
       "        vertical-align: middle;\n",
       "    }\n",
       "\n",
       "    .dataframe tbody tr th {\n",
       "        vertical-align: top;\n",
       "    }\n",
       "\n",
       "    .dataframe thead th {\n",
       "        text-align: right;\n",
       "    }\n",
       "</style>\n",
       "<table border=\"1\" class=\"dataframe\">\n",
       "  <thead>\n",
       "    <tr style=\"text-align: right;\">\n",
       "      <th></th>\n",
       "      <th>Gift Amount</th>\n",
       "    </tr>\n",
       "    <tr>\n",
       "      <th>Soft Credit Type</th>\n",
       "      <th></th>\n",
       "    </tr>\n",
       "  </thead>\n",
       "  <tbody>\n",
       "    <tr>\n",
       "      <th>1</th>\n",
       "      <td>89.480385</td>\n",
       "    </tr>\n",
       "    <tr>\n",
       "      <th>2</th>\n",
       "      <td>208.151010</td>\n",
       "    </tr>\n",
       "    <tr>\n",
       "      <th>3</th>\n",
       "      <td>377.471124</td>\n",
       "    </tr>\n",
       "  </tbody>\n",
       "</table>\n",
       "</div>"
      ],
      "text/plain": [
       "                  Gift Amount\n",
       "Soft Credit Type             \n",
       "1                   89.480385\n",
       "2                  208.151010\n",
       "3                  377.471124"
      ]
     },
     "execution_count": 16,
     "metadata": {},
     "output_type": "execute_result"
    }
   ],
   "source": [
    "#Soft credit type:\n",
    "# 1: participant 2: team 3: event\n",
    "don[['Gift Amount', 'Soft Credit Type']].groupby('Soft Credit Type').mean()"
   ]
  },
  {
   "cell_type": "markdown",
   "metadata": {},
   "source": [
    "Gifts donated on to events have the highest average, followed by team and participant."
   ]
  },
  {
   "cell_type": "code",
   "execution_count": 17,
   "metadata": {},
   "outputs": [
    {
     "data": {
      "text/plain": [
       "<matplotlib.axes._subplots.AxesSubplot at 0x2b9cbe50358>"
      ]
     },
     "execution_count": 17,
     "metadata": {},
     "output_type": "execute_result"
    },
    {
     "data": {
      "image/png": "[encoded data removed]",
      "text/plain": [
       "<Figure size 432x288 with 1 Axes>"
      ]
     },
     "metadata": {
      "needs_background": "light"
     },
     "output_type": "display_data"
    }
   ],
   "source": [
    "#Check average gift amount for each year.\n",
    "don[['Gift Amount', 'Soft Credit Type', 'Fiscal Year']].groupby(['Fiscal Year', 'Soft Credit Type']).mean().plot(kind='Bar')"
   ]
  },
  {
   "cell_type": "markdown",
   "metadata": {},
   "source": [
    "Participant gifts aver very steady, while event gifts change from year to year.  Team gifts are steadily increasing."
   ]
  },
  {
   "cell_type": "code",
   "execution_count": 18,
   "metadata": {},
   "outputs": [
    {
     "data": {
      "text/html": [
       "<div>\n",
       "<style scoped>\n",
       "    .dataframe tbody tr th:only-of-type {\n",
       "        vertical-align: middle;\n",
       "    }\n",
       "\n",
       "    .dataframe tbody tr th {\n",
       "        vertical-align: top;\n",
       "    }\n",
       "\n",
       "    .dataframe thead th {\n",
       "        text-align: right;\n",
       "    }\n",
       "</style>\n",
       "<table border=\"1\" class=\"dataframe\">\n",
       "  <thead>\n",
       "    <tr style=\"text-align: right;\">\n",
       "      <th></th>\n",
       "      <th>Donor Gender</th>\n",
       "    </tr>\n",
       "    <tr>\n",
       "      <th>Fiscal Year</th>\n",
       "      <th></th>\n",
       "    </tr>\n",
       "  </thead>\n",
       "  <tbody>\n",
       "    <tr>\n",
       "      <th>2013</th>\n",
       "      <td>0.496769</td>\n",
       "    </tr>\n",
       "    <tr>\n",
       "      <th>2014</th>\n",
       "      <td>0.496956</td>\n",
       "    </tr>\n",
       "    <tr>\n",
       "      <th>2015</th>\n",
       "      <td>0.498030</td>\n",
       "    </tr>\n",
       "    <tr>\n",
       "      <th>2016</th>\n",
       "      <td>0.497093</td>\n",
       "    </tr>\n",
       "    <tr>\n",
       "      <th>2017</th>\n",
       "      <td>0.496001</td>\n",
       "    </tr>\n",
       "  </tbody>\n",
       "</table>\n",
       "</div>"
      ],
      "text/plain": [
       "             Donor Gender\n",
       "Fiscal Year              \n",
       "2013             0.496769\n",
       "2014             0.496956\n",
       "2015             0.498030\n",
       "2016             0.497093\n",
       "2017             0.496001"
      ]
     },
     "execution_count": 18,
     "metadata": {},
     "output_type": "execute_result"
    }
   ],
   "source": [
    "#Check average donor gender\n",
    "# 0: male 1: female 2: Not Specified\n",
    "don[don['Donor Gender'] != 2][['Donor Gender', 'Fiscal Year']].groupby('Fiscal Year').mean()"
   ]
  },
  {
   "cell_type": "markdown",
   "metadata": {},
   "source": [
    "Donor gender is consistant."
   ]
  },
  {
   "cell_type": "code",
   "execution_count": 19,
   "metadata": {},
   "outputs": [
    {
     "data": {
      "text/html": [
       "<div>\n",
       "<style scoped>\n",
       "    .dataframe tbody tr th:only-of-type {\n",
       "        vertical-align: middle;\n",
       "    }\n",
       "\n",
       "    .dataframe tbody tr th {\n",
       "        vertical-align: top;\n",
       "    }\n",
       "\n",
       "    .dataframe thead th {\n",
       "        text-align: right;\n",
       "    }\n",
       "</style>\n",
       "<table border=\"1\" class=\"dataframe\">\n",
       "  <thead>\n",
       "    <tr style=\"text-align: right;\">\n",
       "      <th></th>\n",
       "      <th></th>\n",
       "      <th>Gift Amount</th>\n",
       "    </tr>\n",
       "    <tr>\n",
       "      <th>Fiscal Year</th>\n",
       "      <th>Donor Gender</th>\n",
       "      <th></th>\n",
       "    </tr>\n",
       "  </thead>\n",
       "  <tbody>\n",
       "    <tr>\n",
       "      <th rowspan=\"3\" valign=\"top\">2013</th>\n",
       "      <th>0</th>\n",
       "      <td>85.926577</td>\n",
       "    </tr>\n",
       "    <tr>\n",
       "      <th>1</th>\n",
       "      <td>62.497971</td>\n",
       "    </tr>\n",
       "    <tr>\n",
       "      <th>2</th>\n",
       "      <td>164.986957</td>\n",
       "    </tr>\n",
       "    <tr>\n",
       "      <th rowspan=\"3\" valign=\"top\">2014</th>\n",
       "      <th>0</th>\n",
       "      <td>92.252708</td>\n",
       "    </tr>\n",
       "    <tr>\n",
       "      <th>1</th>\n",
       "      <td>66.474701</td>\n",
       "    </tr>\n",
       "    <tr>\n",
       "      <th>2</th>\n",
       "      <td>164.327831</td>\n",
       "    </tr>\n",
       "    <tr>\n",
       "      <th rowspan=\"3\" valign=\"top\">2015</th>\n",
       "      <th>0</th>\n",
       "      <td>96.772295</td>\n",
       "    </tr>\n",
       "    <tr>\n",
       "      <th>1</th>\n",
       "      <td>69.785847</td>\n",
       "    </tr>\n",
       "    <tr>\n",
       "      <th>2</th>\n",
       "      <td>170.158338</td>\n",
       "    </tr>\n",
       "    <tr>\n",
       "      <th rowspan=\"3\" valign=\"top\">2016</th>\n",
       "      <th>0</th>\n",
       "      <td>99.526233</td>\n",
       "    </tr>\n",
       "    <tr>\n",
       "      <th>1</th>\n",
       "      <td>73.193545</td>\n",
       "    </tr>\n",
       "    <tr>\n",
       "      <th>2</th>\n",
       "      <td>139.745955</td>\n",
       "    </tr>\n",
       "    <tr>\n",
       "      <th rowspan=\"3\" valign=\"top\">2017</th>\n",
       "      <th>0</th>\n",
       "      <td>99.564437</td>\n",
       "    </tr>\n",
       "    <tr>\n",
       "      <th>1</th>\n",
       "      <td>72.892667</td>\n",
       "    </tr>\n",
       "    <tr>\n",
       "      <th>2</th>\n",
       "      <td>163.013932</td>\n",
       "    </tr>\n",
       "  </tbody>\n",
       "</table>\n",
       "</div>"
      ],
      "text/plain": [
       "                          Gift Amount\n",
       "Fiscal Year Donor Gender             \n",
       "2013        0               85.926577\n",
       "            1               62.497971\n",
       "            2              164.986957\n",
       "2014        0               92.252708\n",
       "            1               66.474701\n",
       "            2              164.327831\n",
       "2015        0               96.772295\n",
       "            1               69.785847\n",
       "            2              170.158338\n",
       "2016        0               99.526233\n",
       "            1               73.193545\n",
       "            2              139.745955\n",
       "2017        0               99.564437\n",
       "            1               72.892667\n",
       "            2              163.013932"
      ]
     },
     "execution_count": 19,
     "metadata": {},
     "output_type": "execute_result"
    }
   ],
   "source": [
    "#Check average donor gift by gender for each year.\n",
    "don[['Donor Gender', 'Gift Amount', 'Fiscal Year']].groupby([ 'Fiscal Year', 'Donor Gender']).mean()"
   ]
  },
  {
   "cell_type": "markdown",
   "metadata": {},
   "source": [
    "Donations are consistently increasing for both male and female."
   ]
  },
  {
   "cell_type": "code",
   "execution_count": 20,
   "metadata": {},
   "outputs": [
    {
     "data": {
      "text/plain": [
       "<seaborn.axisgrid.FacetGrid at 0x2b9eeda2a20>"
      ]
     },
     "execution_count": 20,
     "metadata": {},
     "output_type": "execute_result"
    },
    {
     "data": {
      "image/png": "[encoded data removed]",
      "text/plain": [
       "<Figure size 925.859x432 with 1 Axes>"
      ]
     },
     "metadata": {
      "needs_background": "light"
     },
     "output_type": "display_data"
    }
   ],
   "source": [
    "#Graph of average donation for each gender.\n",
    "sns.catplot('Donor Gender', 'Gift Amount', 'Fiscal Year', data=don, kind='bar', \n",
    "               height=6, aspect=2, palette=\"muted\")"
   ]
  },
  {
   "cell_type": "code",
   "execution_count": 21,
   "metadata": {},
   "outputs": [
    {
     "data": {
      "text/html": [
       "<div>\n",
       "<style scoped>\n",
       "    .dataframe tbody tr th:only-of-type {\n",
       "        vertical-align: middle;\n",
       "    }\n",
       "\n",
       "    .dataframe tbody tr th {\n",
       "        vertical-align: top;\n",
       "    }\n",
       "\n",
       "    .dataframe thead th {\n",
       "        text-align: right;\n",
       "    }\n",
       "</style>\n",
       "<table border=\"1\" class=\"dataframe\">\n",
       "  <thead>\n",
       "    <tr style=\"text-align: right;\">\n",
       "      <th></th>\n",
       "      <th>Gift Amount</th>\n",
       "    </tr>\n",
       "    <tr>\n",
       "      <th>Donor Accept Email</th>\n",
       "      <th></th>\n",
       "    </tr>\n",
       "  </thead>\n",
       "  <tbody>\n",
       "    <tr>\n",
       "      <th>0</th>\n",
       "      <td>83.21014</td>\n",
       "    </tr>\n",
       "    <tr>\n",
       "      <th>1</th>\n",
       "      <td>99.28211</td>\n",
       "    </tr>\n",
       "  </tbody>\n",
       "</table>\n",
       "</div>"
      ],
      "text/plain": [
       "                    Gift Amount\n",
       "Donor Accept Email             \n",
       "0                      83.21014\n",
       "1                      99.28211"
      ]
     },
     "execution_count": 21,
     "metadata": {},
     "output_type": "execute_result"
    }
   ],
   "source": [
    "#Check average donation for donors with and without email.\n",
    "# 0: do not use email, 1: use email\n",
    "don[['Gift Amount', 'Donor Accept Email']].groupby('Donor Accept Email').mean()"
   ]
  },
  {
   "cell_type": "markdown",
   "metadata": {},
   "source": [
    "Donors who accept email give slightly more."
   ]
  },
  {
   "cell_type": "code",
   "execution_count": 22,
   "metadata": {},
   "outputs": [
    {
     "data": {
      "text/html": [
       "<div>\n",
       "<style scoped>\n",
       "    .dataframe tbody tr th:only-of-type {\n",
       "        vertical-align: middle;\n",
       "    }\n",
       "\n",
       "    .dataframe tbody tr th {\n",
       "        vertical-align: top;\n",
       "    }\n",
       "\n",
       "    .dataframe thead th {\n",
       "        text-align: right;\n",
       "    }\n",
       "</style>\n",
       "<table border=\"1\" class=\"dataframe\">\n",
       "  <thead>\n",
       "    <tr style=\"text-align: right;\">\n",
       "      <th></th>\n",
       "      <th></th>\n",
       "      <th>Gift Amount</th>\n",
       "    </tr>\n",
       "    <tr>\n",
       "      <th>Fiscal Year</th>\n",
       "      <th>Donor Accept Email</th>\n",
       "      <th></th>\n",
       "    </tr>\n",
       "  </thead>\n",
       "  <tbody>\n",
       "    <tr>\n",
       "      <th rowspan=\"2\" valign=\"top\">2013</th>\n",
       "      <th>0</th>\n",
       "      <td>75.578686</td>\n",
       "    </tr>\n",
       "    <tr>\n",
       "      <th>1</th>\n",
       "      <td>96.470483</td>\n",
       "    </tr>\n",
       "    <tr>\n",
       "      <th rowspan=\"2\" valign=\"top\">2014</th>\n",
       "      <th>0</th>\n",
       "      <td>82.261350</td>\n",
       "    </tr>\n",
       "    <tr>\n",
       "      <th>1</th>\n",
       "      <td>96.948291</td>\n",
       "    </tr>\n",
       "    <tr>\n",
       "      <th rowspan=\"2\" valign=\"top\">2015</th>\n",
       "      <th>0</th>\n",
       "      <td>85.462068</td>\n",
       "    </tr>\n",
       "    <tr>\n",
       "      <th>1</th>\n",
       "      <td>101.257772</td>\n",
       "    </tr>\n",
       "    <tr>\n",
       "      <th rowspan=\"2\" valign=\"top\">2016</th>\n",
       "      <th>0</th>\n",
       "      <td>89.404463</td>\n",
       "    </tr>\n",
       "    <tr>\n",
       "      <th>1</th>\n",
       "      <td>100.252407</td>\n",
       "    </tr>\n",
       "    <tr>\n",
       "      <th rowspan=\"2\" valign=\"top\">2017</th>\n",
       "      <th>0</th>\n",
       "      <td>90.470405</td>\n",
       "    </tr>\n",
       "    <tr>\n",
       "      <th>1</th>\n",
       "      <td>101.281958</td>\n",
       "    </tr>\n",
       "  </tbody>\n",
       "</table>\n",
       "</div>"
      ],
      "text/plain": [
       "                                Gift Amount\n",
       "Fiscal Year Donor Accept Email             \n",
       "2013        0                     75.578686\n",
       "            1                     96.470483\n",
       "2014        0                     82.261350\n",
       "            1                     96.948291\n",
       "2015        0                     85.462068\n",
       "            1                    101.257772\n",
       "2016        0                     89.404463\n",
       "            1                    100.252407\n",
       "2017        0                     90.470405\n",
       "            1                    101.281958"
      ]
     },
     "execution_count": 22,
     "metadata": {},
     "output_type": "execute_result"
    }
   ],
   "source": [
    "#Check average gift amount for each year.\n",
    "don[['Donor Accept Email', 'Gift Amount', 'Fiscal Year']].groupby([ 'Fiscal Year', 'Donor Accept Email']).mean()"
   ]
  },
  {
   "cell_type": "markdown",
   "metadata": {},
   "source": [
    "Difference is consistant for each year."
   ]
  },
  {
   "cell_type": "code",
   "execution_count": 23,
   "metadata": {},
   "outputs": [
    {
     "data": {
      "text/html": [
       "<div>\n",
       "<style scoped>\n",
       "    .dataframe tbody tr th:only-of-type {\n",
       "        vertical-align: middle;\n",
       "    }\n",
       "\n",
       "    .dataframe tbody tr th {\n",
       "        vertical-align: top;\n",
       "    }\n",
       "\n",
       "    .dataframe thead th {\n",
       "        text-align: right;\n",
       "    }\n",
       "</style>\n",
       "<table border=\"1\" class=\"dataframe\">\n",
       "  <thead>\n",
       "    <tr style=\"text-align: right;\">\n",
       "      <th></th>\n",
       "      <th>Gift Amount</th>\n",
       "    </tr>\n",
       "    <tr>\n",
       "      <th>Donor Connection to MS</th>\n",
       "      <th></th>\n",
       "    </tr>\n",
       "  </thead>\n",
       "  <tbody>\n",
       "    <tr>\n",
       "      <th>0.0</th>\n",
       "      <td>92.858605</td>\n",
       "    </tr>\n",
       "    <tr>\n",
       "      <th>1.0</th>\n",
       "      <td>88.457670</td>\n",
       "    </tr>\n",
       "  </tbody>\n",
       "</table>\n",
       "</div>"
      ],
      "text/plain": [
       "                        Gift Amount\n",
       "Donor Connection to MS             \n",
       "0.0                       92.858605\n",
       "1.0                       88.457670"
      ]
     },
     "execution_count": 23,
     "metadata": {},
     "output_type": "execute_result"
    }
   ],
   "source": [
    "#Check connection to MS\n",
    "# 0: associate has MS 1: no connection to MS\n",
    "don[['Gift Amount', 'Donor Connection to MS']].groupby('Donor Connection to MS').mean()"
   ]
  },
  {
   "cell_type": "markdown",
   "metadata": {},
   "source": [
    "Maybe corporate gift (gender not specified) are skewing the donation for no connection to MS."
   ]
  },
  {
   "cell_type": "code",
   "execution_count": 24,
   "metadata": {},
   "outputs": [
    {
     "data": {
      "text/html": [
       "<div>\n",
       "<style scoped>\n",
       "    .dataframe tbody tr th:only-of-type {\n",
       "        vertical-align: middle;\n",
       "    }\n",
       "\n",
       "    .dataframe tbody tr th {\n",
       "        vertical-align: top;\n",
       "    }\n",
       "\n",
       "    .dataframe thead th {\n",
       "        text-align: right;\n",
       "    }\n",
       "</style>\n",
       "<table border=\"1\" class=\"dataframe\">\n",
       "  <thead>\n",
       "    <tr style=\"text-align: right;\">\n",
       "      <th></th>\n",
       "      <th>Gift Amount</th>\n",
       "    </tr>\n",
       "    <tr>\n",
       "      <th>Donor Connection to MS</th>\n",
       "      <th></th>\n",
       "    </tr>\n",
       "  </thead>\n",
       "  <tbody>\n",
       "    <tr>\n",
       "      <th>0.0</th>\n",
       "      <td>76.257475</td>\n",
       "    </tr>\n",
       "    <tr>\n",
       "      <th>1.0</th>\n",
       "      <td>88.758255</td>\n",
       "    </tr>\n",
       "  </tbody>\n",
       "</table>\n",
       "</div>"
      ],
      "text/plain": [
       "                        Gift Amount\n",
       "Donor Connection to MS             \n",
       "0.0                       76.257475\n",
       "1.0                       88.758255"
      ]
     },
     "execution_count": 24,
     "metadata": {},
     "output_type": "execute_result"
    }
   ],
   "source": [
    "don[don['Donor Gender'] != 2][['Gift Amount', 'Donor Connection to MS']].groupby('Donor Connection to MS').mean()"
   ]
  },
  {
   "cell_type": "markdown",
   "metadata": {},
   "source": [
    "Even with gender specified, no connection still has a higher donation average."
   ]
  },
  {
   "cell_type": "code",
   "execution_count": 25,
   "metadata": {},
   "outputs": [
    {
     "data": {
      "text/html": [
       "<div>\n",
       "<style scoped>\n",
       "    .dataframe tbody tr th:only-of-type {\n",
       "        vertical-align: middle;\n",
       "    }\n",
       "\n",
       "    .dataframe tbody tr th {\n",
       "        vertical-align: top;\n",
       "    }\n",
       "\n",
       "    .dataframe thead th {\n",
       "        text-align: right;\n",
       "    }\n",
       "</style>\n",
       "<table border=\"1\" class=\"dataframe\">\n",
       "  <thead>\n",
       "    <tr style=\"text-align: right;\">\n",
       "      <th></th>\n",
       "      <th>Gift Amount</th>\n",
       "    </tr>\n",
       "    <tr>\n",
       "      <th>Is Prior Participant</th>\n",
       "      <th></th>\n",
       "    </tr>\n",
       "  </thead>\n",
       "  <tbody>\n",
       "    <tr>\n",
       "      <th>0</th>\n",
       "      <td>77.995266</td>\n",
       "    </tr>\n",
       "    <tr>\n",
       "      <th>1</th>\n",
       "      <td>99.611274</td>\n",
       "    </tr>\n",
       "  </tbody>\n",
       "</table>\n",
       "</div>"
      ],
      "text/plain": [
       "                      Gift Amount\n",
       "Is Prior Participant             \n",
       "0                       77.995266\n",
       "1                       99.611274"
      ]
     },
     "execution_count": 25,
     "metadata": {},
     "output_type": "execute_result"
    }
   ],
   "source": [
    "#Check donations for first time participants\n",
    "don[['Gift Amount', 'Is Prior Participant']].groupby('Is Prior Participant').mean()"
   ]
  },
  {
   "cell_type": "markdown",
   "metadata": {},
   "source": [
    "Repeat riders have significantly higher donations on average."
   ]
  },
  {
   "cell_type": "code",
   "execution_count": 26,
   "metadata": {},
   "outputs": [
    {
     "data": {
      "text/plain": [
       "<seaborn.axisgrid.FacetGrid at 0x2b9cbf23470>"
      ]
     },
     "execution_count": 26,
     "metadata": {},
     "output_type": "execute_result"
    },
    {
     "data": {
      "image/png": "[encoded data removed]",
      "text/plain": [
       "<Figure size 925.859x432 with 1 Axes>"
      ]
     },
     "metadata": {
      "needs_background": "light"
     },
     "output_type": "display_data"
    }
   ],
   "source": [
    "#Check trend over time\n",
    "sns.catplot('Is Prior Participant', 'Gift Amount', 'Fiscal Year', data=don, kind='bar', \n",
    "               height=6, aspect=2, palette=\"muted\")"
   ]
  },
  {
   "cell_type": "markdown",
   "metadata": {},
   "source": [
    "Repeat riders average donations are consistantly increasing each year."
   ]
  },
  {
   "cell_type": "code",
   "execution_count": 27,
   "metadata": {},
   "outputs": [
    {
     "data": {
      "text/html": [
       "<div>\n",
       "<style scoped>\n",
       "    .dataframe tbody tr th:only-of-type {\n",
       "        vertical-align: middle;\n",
       "    }\n",
       "\n",
       "    .dataframe tbody tr th {\n",
       "        vertical-align: top;\n",
       "    }\n",
       "\n",
       "    .dataframe thead th {\n",
       "        text-align: right;\n",
       "    }\n",
       "</style>\n",
       "<table border=\"1\" class=\"dataframe\">\n",
       "  <thead>\n",
       "    <tr style=\"text-align: right;\">\n",
       "      <th></th>\n",
       "      <th>Gift Amount</th>\n",
       "    </tr>\n",
       "    <tr>\n",
       "      <th>Is Team Captain</th>\n",
       "      <th></th>\n",
       "    </tr>\n",
       "  </thead>\n",
       "  <tbody>\n",
       "    <tr>\n",
       "      <th>0</th>\n",
       "      <td>87.624495</td>\n",
       "    </tr>\n",
       "    <tr>\n",
       "      <th>1</th>\n",
       "      <td>115.130684</td>\n",
       "    </tr>\n",
       "  </tbody>\n",
       "</table>\n",
       "</div>"
      ],
      "text/plain": [
       "                 Gift Amount\n",
       "Is Team Captain             \n",
       "0                  87.624495\n",
       "1                 115.130684"
      ]
     },
     "execution_count": 27,
     "metadata": {},
     "output_type": "execute_result"
    }
   ],
   "source": [
    "#Check average gift amount for team captians.\n",
    "don[['Gift Amount', 'Is Team Captain']].groupby('Is Team Captain').mean()"
   ]
  },
  {
   "cell_type": "markdown",
   "metadata": {},
   "source": [
    "Team captians bring in higher average donations than regular participants."
   ]
  },
  {
   "cell_type": "code",
   "execution_count": 28,
   "metadata": {},
   "outputs": [
    {
     "data": {
      "text/plain": [
       "<matplotlib.axes._subplots.AxesSubplot at 0x2b9cc15beb8>"
      ]
     },
     "execution_count": 28,
     "metadata": {},
     "output_type": "execute_result"
    },
    {
     "data": {
      "image/png": "[encoded data removed]",
      "text/plain": [
       "<Figure size 432x288 with 1 Axes>"
      ]
     },
     "metadata": {
      "needs_background": "light"
     },
     "output_type": "display_data"
    }
   ],
   "source": [
    "don[['Is Team Captain', 'Gift Amount', 'Fiscal Year']].groupby([ 'Fiscal Year', 'Is Team Captain']).mean().plot(kind='Bar')"
   ]
  },
  {
   "cell_type": "markdown",
   "metadata": {},
   "source": [
    "Both groups average donations are steadily increasing."
   ]
  },
  {
   "cell_type": "code",
   "execution_count": 29,
   "metadata": {},
   "outputs": [],
   "source": [
    "#Create dummy column for riders who belong to a team.\n",
    "don['Team Flag'] = don['Team']\n",
    "don.loc[don['Team'] == 'None', 'Team Flag'] = 0\n",
    "don.loc[don['Team'] != 'None', 'Team Flag'] = 1"
   ]
  },
  {
   "cell_type": "code",
   "execution_count": 30,
   "metadata": {},
   "outputs": [
    {
     "data": {
      "text/plain": [
       "1    3294813\n",
       "0     504349\n",
       "Name: Team Flag, dtype: int64"
      ]
     },
     "execution_count": 30,
     "metadata": {},
     "output_type": "execute_result"
    }
   ],
   "source": [
    "don['Team Flag'].value_counts()"
   ]
  },
  {
   "cell_type": "markdown",
   "metadata": {},
   "source": [
    "Most donations are associated with a team (87%)"
   ]
  },
  {
   "cell_type": "code",
   "execution_count": 31,
   "metadata": {},
   "outputs": [
    {
     "data": {
      "text/html": [
       "<div>\n",
       "<style scoped>\n",
       "    .dataframe tbody tr th:only-of-type {\n",
       "        vertical-align: middle;\n",
       "    }\n",
       "\n",
       "    .dataframe tbody tr th {\n",
       "        vertical-align: top;\n",
       "    }\n",
       "\n",
       "    .dataframe thead th {\n",
       "        text-align: right;\n",
       "    }\n",
       "</style>\n",
       "<table border=\"1\" class=\"dataframe\">\n",
       "  <thead>\n",
       "    <tr style=\"text-align: right;\">\n",
       "      <th></th>\n",
       "      <th>Gift Amount</th>\n",
       "    </tr>\n",
       "    <tr>\n",
       "      <th>Team Flag</th>\n",
       "      <th></th>\n",
       "    </tr>\n",
       "  </thead>\n",
       "  <tbody>\n",
       "    <tr>\n",
       "      <th>0</th>\n",
       "      <td>80.076518</td>\n",
       "    </tr>\n",
       "    <tr>\n",
       "      <th>1</th>\n",
       "      <td>92.905678</td>\n",
       "    </tr>\n",
       "  </tbody>\n",
       "</table>\n",
       "</div>"
      ],
      "text/plain": [
       "           Gift Amount\n",
       "Team Flag             \n",
       "0            80.076518\n",
       "1            92.905678"
      ]
     },
     "execution_count": 31,
     "metadata": {},
     "output_type": "execute_result"
    }
   ],
   "source": [
    "don[['Gift Amount', 'Team Flag']].groupby('Team Flag').mean()"
   ]
  },
  {
   "cell_type": "markdown",
   "metadata": {},
   "source": [
    "Team donations have a higher average."
   ]
  },
  {
   "cell_type": "code",
   "execution_count": 32,
   "metadata": {},
   "outputs": [
    {
     "data": {
      "text/plain": [
       "<seaborn.axisgrid.FacetGrid at 0x2b9cbf2d1d0>"
      ]
     },
     "execution_count": 32,
     "metadata": {},
     "output_type": "execute_result"
    },
    {
     "data": {
      "image/png": "[encoded data removed]",
      "text/plain": [
       "<Figure size 925.859x432 with 1 Axes>"
      ]
     },
     "metadata": {
      "needs_background": "light"
     },
     "output_type": "display_data"
    }
   ],
   "source": [
    "#Check how average donation changes with time.\n",
    "sns.catplot('Team Flag', 'Gift Amount', 'Fiscal Year', data=don, kind='bar', \n",
    "               height=6, aspect=2, palette=\"muted\")"
   ]
  },
  {
   "cell_type": "markdown",
   "metadata": {},
   "source": [
    "Team donations are steadily increasing while non team donations are flat."
   ]
  },
  {
   "cell_type": "code",
   "execution_count": 35,
   "metadata": {
    "scrolled": true
   },
   "outputs": [
    {
     "data": {
      "text/html": [
       "<div>\n",
       "<style scoped>\n",
       "    .dataframe tbody tr th:only-of-type {\n",
       "        vertical-align: middle;\n",
       "    }\n",
       "\n",
       "    .dataframe tbody tr th {\n",
       "        vertical-align: top;\n",
       "    }\n",
       "\n",
       "    .dataframe thead th {\n",
       "        text-align: right;\n",
       "    }\n",
       "</style>\n",
       "<table border=\"1\" class=\"dataframe\">\n",
       "  <thead>\n",
       "    <tr style=\"text-align: right;\">\n",
       "      <th></th>\n",
       "      <th>Fiscal Year</th>\n",
       "      <th>Gift Amount</th>\n",
       "      <th>Gift Type</th>\n",
       "      <th>Gift Payment Method</th>\n",
       "      <th>Soft Credit Type</th>\n",
       "      <th>Is Registration?</th>\n",
       "      <th>Donor Gender</th>\n",
       "      <th>Donor Accept Email</th>\n",
       "      <th>Donor Email Status</th>\n",
       "      <th>Donor Connection to MS</th>\n",
       "      <th>Registration Active Status</th>\n",
       "      <th>Participant Goal</th>\n",
       "      <th>Is Prior Participant</th>\n",
       "      <th>Is Team Captain</th>\n",
       "      <th>Team Flag</th>\n",
       "    </tr>\n",
       "  </thead>\n",
       "  <tbody>\n",
       "    <tr>\n",
       "      <th>Fiscal Year</th>\n",
       "      <td>1.000000</td>\n",
       "      <td>0.012809</td>\n",
       "      <td>0.046760</td>\n",
       "      <td>-0.052416</td>\n",
       "      <td>-0.002148</td>\n",
       "      <td>0.000806</td>\n",
       "      <td>0.039470</td>\n",
       "      <td>0.148013</td>\n",
       "      <td>-0.016392</td>\n",
       "      <td>0.036585</td>\n",
       "      <td>0.010033</td>\n",
       "      <td>0.030444</td>\n",
       "      <td>0.030170</td>\n",
       "      <td>0.016794</td>\n",
       "      <td>0.020903</td>\n",
       "    </tr>\n",
       "    <tr>\n",
       "      <th>Gift Amount</th>\n",
       "      <td>0.012809</td>\n",
       "      <td>1.000000</td>\n",
       "      <td>-0.064492</td>\n",
       "      <td>0.052486</td>\n",
       "      <td>0.048097</td>\n",
       "      <td>-0.053641</td>\n",
       "      <td>0.029091</td>\n",
       "      <td>0.021817</td>\n",
       "      <td>-0.000699</td>\n",
       "      <td>-0.005788</td>\n",
       "      <td>-0.031281</td>\n",
       "      <td>0.107087</td>\n",
       "      <td>0.028611</td>\n",
       "      <td>0.025121</td>\n",
       "      <td>0.011818</td>\n",
       "    </tr>\n",
       "    <tr>\n",
       "      <th>Gift Type</th>\n",
       "      <td>0.046760</td>\n",
       "      <td>-0.064492</td>\n",
       "      <td>1.000000</td>\n",
       "      <td>-0.921766</td>\n",
       "      <td>-0.057719</td>\n",
       "      <td>0.074520</td>\n",
       "      <td>-0.286769</td>\n",
       "      <td>-0.176516</td>\n",
       "      <td>0.209325</td>\n",
       "      <td>0.209997</td>\n",
       "      <td>0.032801</td>\n",
       "      <td>-0.066698</td>\n",
       "      <td>-0.095751</td>\n",
       "      <td>-0.036797</td>\n",
       "      <td>0.058713</td>\n",
       "    </tr>\n",
       "    <tr>\n",
       "      <th>Gift Payment Method</th>\n",
       "      <td>-0.052416</td>\n",
       "      <td>0.052486</td>\n",
       "      <td>-0.921766</td>\n",
       "      <td>1.000000</td>\n",
       "      <td>0.056196</td>\n",
       "      <td>-0.065809</td>\n",
       "      <td>0.293056</td>\n",
       "      <td>0.145781</td>\n",
       "      <td>-0.222608</td>\n",
       "      <td>-0.197540</td>\n",
       "      <td>-0.033046</td>\n",
       "      <td>0.055087</td>\n",
       "      <td>0.089592</td>\n",
       "      <td>0.033382</td>\n",
       "      <td>-0.056337</td>\n",
       "    </tr>\n",
       "    <tr>\n",
       "      <th>Soft Credit Type</th>\n",
       "      <td>-0.002148</td>\n",
       "      <td>0.048097</td>\n",
       "      <td>-0.057719</td>\n",
       "      <td>0.056196</td>\n",
       "      <td>1.000000</td>\n",
       "      <td>-0.033368</td>\n",
       "      <td>0.039778</td>\n",
       "      <td>0.014699</td>\n",
       "      <td>-0.017604</td>\n",
       "      <td>-0.008757</td>\n",
       "      <td>-0.778986</td>\n",
       "      <td>-0.041758</td>\n",
       "      <td>-0.125953</td>\n",
       "      <td>-0.038863</td>\n",
       "      <td>-0.064545</td>\n",
       "    </tr>\n",
       "    <tr>\n",
       "      <th>Is Registration?</th>\n",
       "      <td>0.000806</td>\n",
       "      <td>-0.053641</td>\n",
       "      <td>0.074520</td>\n",
       "      <td>-0.065809</td>\n",
       "      <td>-0.033368</td>\n",
       "      <td>1.000000</td>\n",
       "      <td>-0.157360</td>\n",
       "      <td>0.127095</td>\n",
       "      <td>0.048337</td>\n",
       "      <td>0.160074</td>\n",
       "      <td>-0.047102</td>\n",
       "      <td>-0.093179</td>\n",
       "      <td>-0.067803</td>\n",
       "      <td>-0.055432</td>\n",
       "      <td>-0.069157</td>\n",
       "    </tr>\n",
       "    <tr>\n",
       "      <th>Donor Gender</th>\n",
       "      <td>0.039470</td>\n",
       "      <td>0.029091</td>\n",
       "      <td>-0.286769</td>\n",
       "      <td>0.293056</td>\n",
       "      <td>0.039778</td>\n",
       "      <td>-0.157360</td>\n",
       "      <td>1.000000</td>\n",
       "      <td>0.047530</td>\n",
       "      <td>-0.087322</td>\n",
       "      <td>-0.105213</td>\n",
       "      <td>-0.017683</td>\n",
       "      <td>-0.008080</td>\n",
       "      <td>-0.017226</td>\n",
       "      <td>0.006700</td>\n",
       "      <td>0.003994</td>\n",
       "    </tr>\n",
       "    <tr>\n",
       "      <th>Donor Accept Email</th>\n",
       "      <td>0.148013</td>\n",
       "      <td>0.021817</td>\n",
       "      <td>-0.176516</td>\n",
       "      <td>0.145781</td>\n",
       "      <td>0.014699</td>\n",
       "      <td>0.127095</td>\n",
       "      <td>0.047530</td>\n",
       "      <td>1.000000</td>\n",
       "      <td>0.181518</td>\n",
       "      <td>0.051703</td>\n",
       "      <td>-0.015148</td>\n",
       "      <td>-0.010263</td>\n",
       "      <td>-0.007517</td>\n",
       "      <td>0.003295</td>\n",
       "      <td>-0.030582</td>\n",
       "    </tr>\n",
       "    <tr>\n",
       "      <th>Donor Email Status</th>\n",
       "      <td>-0.016392</td>\n",
       "      <td>-0.000699</td>\n",
       "      <td>0.209325</td>\n",
       "      <td>-0.222608</td>\n",
       "      <td>-0.017604</td>\n",
       "      <td>0.048337</td>\n",
       "      <td>-0.087322</td>\n",
       "      <td>0.181518</td>\n",
       "      <td>1.000000</td>\n",
       "      <td>0.079755</td>\n",
       "      <td>0.004639</td>\n",
       "      <td>-0.029238</td>\n",
       "      <td>-0.028974</td>\n",
       "      <td>-0.014678</td>\n",
       "      <td>0.006626</td>\n",
       "    </tr>\n",
       "    <tr>\n",
       "      <th>Donor Connection to MS</th>\n",
       "      <td>0.036585</td>\n",
       "      <td>-0.005788</td>\n",
       "      <td>0.209997</td>\n",
       "      <td>-0.197540</td>\n",
       "      <td>-0.008757</td>\n",
       "      <td>0.160074</td>\n",
       "      <td>-0.105213</td>\n",
       "      <td>0.051703</td>\n",
       "      <td>0.079755</td>\n",
       "      <td>1.000000</td>\n",
       "      <td>-0.003912</td>\n",
       "      <td>-0.022466</td>\n",
       "      <td>0.024530</td>\n",
       "      <td>0.038148</td>\n",
       "      <td>-0.009247</td>\n",
       "    </tr>\n",
       "    <tr>\n",
       "      <th>Registration Active Status</th>\n",
       "      <td>0.010033</td>\n",
       "      <td>-0.031281</td>\n",
       "      <td>0.032801</td>\n",
       "      <td>-0.033046</td>\n",
       "      <td>-0.778986</td>\n",
       "      <td>-0.047102</td>\n",
       "      <td>-0.017683</td>\n",
       "      <td>-0.015148</td>\n",
       "      <td>0.004639</td>\n",
       "      <td>-0.003912</td>\n",
       "      <td>1.000000</td>\n",
       "      <td>0.049171</td>\n",
       "      <td>0.124181</td>\n",
       "      <td>0.049217</td>\n",
       "      <td>0.047551</td>\n",
       "    </tr>\n",
       "    <tr>\n",
       "      <th>Participant Goal</th>\n",
       "      <td>0.030444</td>\n",
       "      <td>0.107087</td>\n",
       "      <td>-0.066698</td>\n",
       "      <td>0.055087</td>\n",
       "      <td>-0.041758</td>\n",
       "      <td>-0.093179</td>\n",
       "      <td>-0.008080</td>\n",
       "      <td>-0.010263</td>\n",
       "      <td>-0.029238</td>\n",
       "      <td>-0.022466</td>\n",
       "      <td>0.049171</td>\n",
       "      <td>1.000000</td>\n",
       "      <td>0.176829</td>\n",
       "      <td>0.172049</td>\n",
       "      <td>0.057915</td>\n",
       "    </tr>\n",
       "    <tr>\n",
       "      <th>Is Prior Participant</th>\n",
       "      <td>0.030170</td>\n",
       "      <td>0.028611</td>\n",
       "      <td>-0.095751</td>\n",
       "      <td>0.089592</td>\n",
       "      <td>-0.125953</td>\n",
       "      <td>-0.067803</td>\n",
       "      <td>-0.017226</td>\n",
       "      <td>-0.007517</td>\n",
       "      <td>-0.028974</td>\n",
       "      <td>0.024530</td>\n",
       "      <td>0.124181</td>\n",
       "      <td>0.176829</td>\n",
       "      <td>1.000000</td>\n",
       "      <td>0.157110</td>\n",
       "      <td>0.062770</td>\n",
       "    </tr>\n",
       "    <tr>\n",
       "      <th>Is Team Captain</th>\n",
       "      <td>0.016794</td>\n",
       "      <td>0.025121</td>\n",
       "      <td>-0.036797</td>\n",
       "      <td>0.033382</td>\n",
       "      <td>-0.038863</td>\n",
       "      <td>-0.055432</td>\n",
       "      <td>0.006700</td>\n",
       "      <td>0.003295</td>\n",
       "      <td>-0.014678</td>\n",
       "      <td>0.038148</td>\n",
       "      <td>0.049217</td>\n",
       "      <td>0.172049</td>\n",
       "      <td>0.157110</td>\n",
       "      <td>1.000000</td>\n",
       "      <td>0.151268</td>\n",
       "    </tr>\n",
       "    <tr>\n",
       "      <th>Team Flag</th>\n",
       "      <td>0.020903</td>\n",
       "      <td>0.011818</td>\n",
       "      <td>0.058713</td>\n",
       "      <td>-0.056337</td>\n",
       "      <td>-0.064545</td>\n",
       "      <td>-0.069157</td>\n",
       "      <td>0.003994</td>\n",
       "      <td>-0.030582</td>\n",
       "      <td>0.006626</td>\n",
       "      <td>-0.009247</td>\n",
       "      <td>0.047551</td>\n",
       "      <td>0.057915</td>\n",
       "      <td>0.062770</td>\n",
       "      <td>0.151268</td>\n",
       "      <td>1.000000</td>\n",
       "    </tr>\n",
       "  </tbody>\n",
       "</table>\n",
       "</div>"
      ],
      "text/plain": [
       "                            Fiscal Year  Gift Amount  Gift Type  \\\n",
       "Fiscal Year                    1.000000     0.012809   0.046760   \n",
       "Gift Amount                    0.012809     1.000000  -0.064492   \n",
       "Gift Type                      0.046760    -0.064492   1.000000   \n",
       "Gift Payment Method           -0.052416     0.052486  -0.921766   \n",
       "Soft Credit Type              -0.002148     0.048097  -0.057719   \n",
       "Is Registration?               0.000806    -0.053641   0.074520   \n",
       "Donor Gender                   0.039470     0.029091  -0.286769   \n",
       "Donor Accept Email             0.148013     0.021817  -0.176516   \n",
       "Donor Email Status            -0.016392    -0.000699   0.209325   \n",
       "Donor Connection to MS         0.036585    -0.005788   0.209997   \n",
       "Registration Active Status     0.010033    -0.031281   0.032801   \n",
       "Participant Goal               0.030444     0.107087  -0.066698   \n",
       "Is Prior Participant           0.030170     0.028611  -0.095751   \n",
       "Is Team Captain                0.016794     0.025121  -0.036797   \n",
       "Team Flag                      0.020903     0.011818   0.058713   \n",
       "\n",
       "                            Gift Payment Method  Soft Credit Type  \\\n",
       "Fiscal Year                           -0.052416         -0.002148   \n",
       "Gift Amount                            0.052486          0.048097   \n",
       "Gift Type                             -0.921766         -0.057719   \n",
       "Gift Payment Method                    1.000000          0.056196   \n",
       "Soft Credit Type                       0.056196          1.000000   \n",
       "Is Registration?                      -0.065809         -0.033368   \n",
       "Donor Gender                           0.293056          0.039778   \n",
       "Donor Accept Email                     0.145781          0.014699   \n",
       "Donor Email Status                    -0.222608         -0.017604   \n",
       "Donor Connection to MS                -0.197540         -0.008757   \n",
       "Registration Active Status            -0.033046         -0.778986   \n",
       "Participant Goal                       0.055087         -0.041758   \n",
       "Is Prior Participant                   0.089592         -0.125953   \n",
       "Is Team Captain                        0.033382         -0.038863   \n",
       "Team Flag                             -0.056337         -0.064545   \n",
       "\n",
       "                            Is Registration?  Donor Gender  \\\n",
       "Fiscal Year                         0.000806      0.039470   \n",
       "Gift Amount                        -0.053641      0.029091   \n",
       "Gift Type                           0.074520     -0.286769   \n",
       "Gift Payment Method                -0.065809      0.293056   \n",
       "Soft Credit Type                   -0.033368      0.039778   \n",
       "Is Registration?                    1.000000     -0.157360   \n",
       "Donor Gender                       -0.157360      1.000000   \n",
       "Donor Accept Email                  0.127095      0.047530   \n",
       "Donor Email Status                  0.048337     -0.087322   \n",
       "Donor Connection to MS              0.160074     -0.105213   \n",
       "Registration Active Status         -0.047102     -0.017683   \n",
       "Participant Goal                   -0.093179     -0.008080   \n",
       "Is Prior Participant               -0.067803     -0.017226   \n",
       "Is Team Captain                    -0.055432      0.006700   \n",
       "Team Flag                          -0.069157      0.003994   \n",
       "\n",
       "                            Donor Accept Email  Donor Email Status  \\\n",
       "Fiscal Year                           0.148013           -0.016392   \n",
       "Gift Amount                           0.021817           -0.000699   \n",
       "Gift Type                            -0.176516            0.209325   \n",
       "Gift Payment Method                   0.145781           -0.222608   \n",
       "Soft Credit Type                      0.014699           -0.017604   \n",
       "Is Registration?                      0.127095            0.048337   \n",
       "Donor Gender                          0.047530           -0.087322   \n",
       "Donor Accept Email                    1.000000            0.181518   \n",
       "Donor Email Status                    0.181518            1.000000   \n",
       "Donor Connection to MS                0.051703            0.079755   \n",
       "Registration Active Status           -0.015148            0.004639   \n",
       "Participant Goal                     -0.010263           -0.029238   \n",
       "Is Prior Participant                 -0.007517           -0.028974   \n",
       "Is Team Captain                       0.003295           -0.014678   \n",
       "Team Flag                            -0.030582            0.006626   \n",
       "\n",
       "                            Donor Connection to MS  \\\n",
       "Fiscal Year                               0.036585   \n",
       "Gift Amount                              -0.005788   \n",
       "Gift Type                                 0.209997   \n",
       "Gift Payment Method                      -0.197540   \n",
       "Soft Credit Type                         -0.008757   \n",
       "Is Registration?                          0.160074   \n",
       "Donor Gender                             -0.105213   \n",
       "Donor Accept Email                        0.051703   \n",
       "Donor Email Status                        0.079755   \n",
       "Donor Connection to MS                    1.000000   \n",
       "Registration Active Status               -0.003912   \n",
       "Participant Goal                         -0.022466   \n",
       "Is Prior Participant                      0.024530   \n",
       "Is Team Captain                           0.038148   \n",
       "Team Flag                                -0.009247   \n",
       "\n",
       "                            Registration Active Status  Participant Goal  \\\n",
       "Fiscal Year                                   0.010033          0.030444   \n",
       "Gift Amount                                  -0.031281          0.107087   \n",
       "Gift Type                                     0.032801         -0.066698   \n",
       "Gift Payment Method                          -0.033046          0.055087   \n",
       "Soft Credit Type                             -0.778986         -0.041758   \n",
       "Is Registration?                             -0.047102         -0.093179   \n",
       "Donor Gender                                 -0.017683         -0.008080   \n",
       "Donor Accept Email                           -0.015148         -0.010263   \n",
       "Donor Email Status                            0.004639         -0.029238   \n",
       "Donor Connection to MS                       -0.003912         -0.022466   \n",
       "Registration Active Status                    1.000000          0.049171   \n",
       "Participant Goal                              0.049171          1.000000   \n",
       "Is Prior Participant                          0.124181          0.176829   \n",
       "Is Team Captain                               0.049217          0.172049   \n",
       "Team Flag                                     0.047551          0.057915   \n",
       "\n",
       "                            Is Prior Participant  Is Team Captain  Team Flag  \n",
       "Fiscal Year                             0.030170         0.016794   0.020903  \n",
       "Gift Amount                             0.028611         0.025121   0.011818  \n",
       "Gift Type                              -0.095751        -0.036797   0.058713  \n",
       "Gift Payment Method                     0.089592         0.033382  -0.056337  \n",
       "Soft Credit Type                       -0.125953        -0.038863  -0.064545  \n",
       "Is Registration?                       -0.067803        -0.055432  -0.069157  \n",
       "Donor Gender                           -0.017226         0.006700   0.003994  \n",
       "Donor Accept Email                     -0.007517         0.003295  -0.030582  \n",
       "Donor Email Status                     -0.028974        -0.014678   0.006626  \n",
       "Donor Connection to MS                  0.024530         0.038148  -0.009247  \n",
       "Registration Active Status              0.124181         0.049217   0.047551  \n",
       "Participant Goal                        0.176829         0.172049   0.057915  \n",
       "Is Prior Participant                    1.000000         0.157110   0.062770  \n",
       "Is Team Captain                         0.157110         1.000000   0.151268  \n",
       "Team Flag                               0.062770         0.151268   1.000000  "
      ]
     },
     "execution_count": 35,
     "metadata": {},
     "output_type": "execute_result"
    }
   ],
   "source": [
    "#Check correlations\n",
    "don[['Fiscal Year', 'Gift Amount', 'Gift Type', 'Gift Payment Method', 'Soft Credit Type', 'Is Registration?', 'Donor Gender',\n",
    "   'Donor Accept Email', 'Donor Email Status', 'Donor Connection to MS', 'Registration Active Status', 'Participant Goal',\n",
    "   'Is Prior Participant', 'Is Team Captain', 'Team Flag']].corr()"
   ]
  },
  {
   "cell_type": "markdown",
   "metadata": {},
   "source": [
    "Since most variables are categorical, correlations are not significant."
   ]
  },
  {
   "cell_type": "code",
   "execution_count": null,
   "metadata": {},
   "outputs": [],
   "source": []
  }
 ],
 "metadata": {
  "kernelspec": {
   "display_name": "Python 3",
   "language": "python",
   "name": "python3"
  },
  "language_info": {
   "codemirror_mode": {
    "name": "ipython",
    "version": 3
   },
   "file_extension": ".py",
   "mimetype": "text/x-python",
   "name": "python",
   "nbconvert_exporter": "python",
   "pygments_lexer": "ipython3",
   "version": "3.7.1"
  }
 },
 "nbformat": 4,
 "nbformat_minor": 2
}
